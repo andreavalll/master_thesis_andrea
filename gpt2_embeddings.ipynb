{
  "cells": [
    {
      "cell_type": "code",
      "execution_count": 74,
      "id": "0",
      "metadata": {
        "id": "0"
      },
      "outputs": [],
      "source": [
        "# Imports\n",
        "import pandas as pd\n",
        "import spacy\n",
        "import re\n",
        "import torch\n",
        "from transformers import GPT2Tokenizer, GPT2Model, AutoTokenizer\n",
        "from sklearn.metrics.pairwise import cosine_similarity\n",
        "import matplotlib.pyplot as plt"
      ]
    },
    {
      "cell_type": "code",
      "execution_count": 2,
      "id": "3",
      "metadata": {
        "id": "3",
        "colab": {
          "base_uri": "https://localhost:8080/"
        },
        "outputId": "b89cc098-2801-479e-ccc0-35bb583192c3"
      },
      "outputs": [
        {
          "output_type": "stream",
          "name": "stdout",
          "text": [
            "Drive already mounted at /content/drive; to attempt to forcibly remount, call drive.mount(\"/content/drive\", force_remount=True).\n"
          ]
        }
      ],
      "source": [
        "from google.colab import drive\n",
        "drive.mount('/content/drive')"
      ]
    },
    {
      "cell_type": "code",
      "execution_count": 3,
      "id": "4",
      "metadata": {
        "id": "4"
      },
      "outputs": [],
      "source": [
        "file_path = '/content/drive/MyDrive/LLM_thesis/filtered_df.parquet'\n",
        "filtered_df = pd.read_parquet(file_path)"
      ]
    },
    {
      "cell_type": "markdown",
      "id": "22",
      "metadata": {
        "id": "22"
      },
      "source": [
        "#### Embedding Analysis for GPT-2 (baseline)"
      ]
    },
    {
      "cell_type": "markdown",
      "source": [
        "#### Creating a balanced subset for embedding analysis"
      ],
      "metadata": {
        "id": "D-fxkqKV7Uia"
      },
      "id": "D-fxkqKV7Uia"
    },
    {
      "cell_type": "code",
      "source": [
        "# Takes a subset of 5 sentences that contain gendered terms per category to ensure a balanced representation\n",
        "balanced_sample = []\n",
        "\n",
        "for cat in sorted(filtered_df[\"stereotype\"].unique()):\n",
        "    group = filtered_df[filtered_df[\"stereotype\"] == cat]\n",
        "\n",
        "    # Filters for gendered terms\n",
        "    gendered = group[group[\"sentence\"].str.lower().str.contains(r\"\\b(he|she|man|woman|boy|girl|his|her|men|women)\\b\")]\n",
        "\n",
        "    if len(gendered) >= 5:\n",
        "        sample = gendered.sample(n=5, random_state=42)\n",
        "        balanced_sample.append(sample)\n",
        "    else:\n",
        "        print(f\"⚠️ Not enough gendered examples in category {cat}: only {len(gendered)} found\")\n",
        "\n",
        "final_subset_df = pd.concat(balanced_sample).reset_index(drop=True)\n",
        "print(f\"Final balanced subset: {len(final_subset_df)} sentences\")"
      ],
      "metadata": {
        "colab": {
          "base_uri": "https://localhost:8080/"
        },
        "id": "a8H_Y3Rz7avZ",
        "outputId": "234c2c2c-cf93-4079-c772-84175670059a"
      },
      "id": "a8H_Y3Rz7avZ",
      "execution_count": 6,
      "outputs": [
        {
          "output_type": "stream",
          "name": "stdout",
          "text": [
            "Final balanced subset: 80 sentences\n"
          ]
        },
        {
          "output_type": "stream",
          "name": "stderr",
          "text": [
            "<ipython-input-6-b59fdc4ed290>:8: UserWarning: This pattern is interpreted as a regular expression, and has match groups. To actually get the groups, use str.extract.\n",
            "  gendered = group[group[\"sentence\"].str.lower().str.contains(r\"\\b(he|she|man|woman|boy|girl|his|her|men|women)\\b\")]\n"
          ]
        }
      ]
    },
    {
      "cell_type": "code",
      "source": [
        "import spacy\n",
        "nlp = spacy.load(\"en_core_web_sm\")\n",
        "\n",
        "def extract_gender_and_closest_token(text):\n",
        "    doc = nlp(text)\n",
        "    # Sampe pronouns/gendered terms used previously\n",
        "    gender_terms = {\"he\", \"she\", \"his\", \"her\", \"man\", \"woman\", \"boy\", \"girl\", \"women\", \"men\"}\n",
        "    gender_idxs = [i for i, token in enumerate(doc) if token.text.lower() in gender_terms]\n",
        "\n",
        "    if not gender_idxs:\n",
        "        return pd.Series([None, None])\n",
        "\n",
        "    # Uses the first gendered term for simplicity\n",
        "    gender_idx = gender_idxs[0]\n",
        "    gender_term = doc[gender_idx].text\n",
        "\n",
        "    # Candidates: nouns and adjectives\n",
        "    candidates = [(i, token.text, token.pos_) for i, token in enumerate(doc) if\n",
        "                  token.pos_ in {\"NOUN\", \"ADJ\"} and token.text.lower() not in\n",
        "                  gender_terms]\n",
        "\n",
        "    if not candidates:\n",
        "        return pd.Series([gender_term, None])\n",
        "\n",
        "    # Closest token by distance to gendered pronoun -> might change later\n",
        "    closest = min(candidates, key=lambda x: abs(x[0] - gender_idx))\n",
        "    closest_token = closest[1]\n",
        "\n",
        "    return pd.Series([gender_term, closest_token])"
      ],
      "metadata": {
        "id": "LIV1fzu4ClV1"
      },
      "id": "LIV1fzu4ClV1",
      "execution_count": 25,
      "outputs": []
    },
    {
      "cell_type": "code",
      "source": [
        "final_subset_df[[\"pronoun\", \"relevant_token\"]] = final_subset_df[\"sentence\"].apply(extract_gender_and_closest_token)"
      ],
      "metadata": {
        "id": "XeYFbW0qHqW0"
      },
      "id": "XeYFbW0qHqW0",
      "execution_count": 26,
      "outputs": []
    },
    {
      "cell_type": "code",
      "source": [
        "# final_subset_df.head(50)\n",
        "# Took a look at the selection and it looks pretty good. I do think it can be improved, so later on might try to select it based on sentiment.\n",
        "# I thought manual selection might be too time consuming and also introduces my own biases so for now it's automated."
      ],
      "metadata": {
        "id": "cD06vZs0I0O9"
      },
      "id": "cD06vZs0I0O9",
      "execution_count": 35,
      "outputs": []
    },
    {
      "cell_type": "markdown",
      "source": [
        "#### Compute cosine similarity at the token level for gendered term & adj/noun for GPT-2"
      ],
      "metadata": {
        "id": "tzoYC62bK-Gf"
      },
      "id": "tzoYC62bK-Gf"
    },
    {
      "cell_type": "markdown",
      "source": [
        "Sources:\n",
        "- https://huggingface.co/docs/transformers/main_classes/tokenizer\n",
        "- https://medium.com/@khiljidanial/cosine-similarity-using-gpt-models-35b6b9685d70"
      ],
      "metadata": {
        "id": "fdD8A0ozOM3U"
      },
      "id": "fdD8A0ozOM3U"
    },
    {
      "cell_type": "code",
      "source": [
        "tokenizer = GPT2Tokenizer.from_pretrained(\"openai-community/gpt2\")\n",
        "model = GPT2Model.from_pretrained(\"openai-community/gpt2\")"
      ],
      "metadata": {
        "id": "E0ACXEa2I2Y-"
      },
      "id": "E0ACXEa2I2Y-",
      "execution_count": 36,
      "outputs": []
    },
    {
      "cell_type": "code",
      "source": [
        "model.eval()\n",
        "device = torch.device(\"cuda\" if torch.cuda.is_available() else \"cpu\")\n",
        "model.to(device)"
      ],
      "metadata": {
        "id": "V4jTnU1VMOSl",
        "outputId": "0bc9fc14-dcbe-45fb-a77d-1629b8e6c401",
        "colab": {
          "base_uri": "https://localhost:8080/"
        }
      },
      "id": "V4jTnU1VMOSl",
      "execution_count": 45,
      "outputs": [
        {
          "output_type": "execute_result",
          "data": {
            "text/plain": [
              "GPT2Model(\n",
              "  (wte): Embedding(50257, 768)\n",
              "  (wpe): Embedding(1024, 768)\n",
              "  (drop): Dropout(p=0.1, inplace=False)\n",
              "  (h): ModuleList(\n",
              "    (0-11): 12 x GPT2Block(\n",
              "      (ln_1): LayerNorm((768,), eps=1e-05, elementwise_affine=True)\n",
              "      (attn): GPT2Attention(\n",
              "        (c_attn): Conv1D(nf=2304, nx=768)\n",
              "        (c_proj): Conv1D(nf=768, nx=768)\n",
              "        (attn_dropout): Dropout(p=0.1, inplace=False)\n",
              "        (resid_dropout): Dropout(p=0.1, inplace=False)\n",
              "      )\n",
              "      (ln_2): LayerNorm((768,), eps=1e-05, elementwise_affine=True)\n",
              "      (mlp): GPT2MLP(\n",
              "        (c_fc): Conv1D(nf=3072, nx=768)\n",
              "        (c_proj): Conv1D(nf=768, nx=3072)\n",
              "        (act): NewGELUActivation()\n",
              "        (dropout): Dropout(p=0.1, inplace=False)\n",
              "      )\n",
              "    )\n",
              "  )\n",
              "  (ln_f): LayerNorm((768,), eps=1e-05, elementwise_affine=True)\n",
              ")"
            ]
          },
          "metadata": {},
          "execution_count": 45
        }
      ]
    },
    {
      "cell_type": "code",
      "source": [
        "def get_token_embedding(text, target_token):\n",
        "    if not target_token:  # handles None, empty strings..\n",
        "        return None\n",
        "\n",
        "    inputs = tokenizer(text, return_tensors=\"pt\", truncation=True).to(device)\n",
        "    tokens = tokenizer.convert_ids_to_tokens(inputs[\"input_ids\"].squeeze())\n",
        "\n",
        "    # Match by substring ignoring case\n",
        "    match_indices = [i for i, tok in enumerate(tokens) if target_token.lower() in tok.lower()]\n",
        "    if not match_indices:\n",
        "        return None\n",
        "\n",
        "    with torch.no_grad():\n",
        "        outputs = model(**inputs)\n",
        "        last_hidden_state = outputs.last_hidden_state.squeeze(0)\n",
        "\n",
        "    return last_hidden_state[match_indices[0]].cpu().numpy()"
      ],
      "metadata": {
        "id": "LTWbgwqpMQ4I"
      },
      "id": "LTWbgwqpMQ4I",
      "execution_count": 56,
      "outputs": []
    },
    {
      "cell_type": "code",
      "source": [
        "# Function to compute cosine similarity\n",
        "def compute_cosine(row):\n",
        "    sentence = row[\"sentence\"]\n",
        "    pronoun = row[\"pronoun\"]\n",
        "    token = row[\"relevant_token\"]\n",
        "\n",
        "    emb_pronoun = get_token_embedding(sentence, pronoun)\n",
        "    emb_token = get_token_embedding(sentence, token)\n",
        "    if emb_pronoun is None or emb_token is None:\n",
        "        return 0.0\n",
        "\n",
        "    return cosine_similarity([emb_pronoun], [emb_token])[0][0]"
      ],
      "metadata": {
        "id": "0RaYGY3eOz_T"
      },
      "id": "0RaYGY3eOz_T",
      "execution_count": 57,
      "outputs": []
    },
    {
      "cell_type": "code",
      "source": [
        "final_subset_df[\"cosine_similarity\"] = final_subset_df.apply(compute_cosine, axis=1)"
      ],
      "metadata": {
        "id": "BtifPMRxQNPP"
      },
      "id": "BtifPMRxQNPP",
      "execution_count": 80,
      "outputs": []
    },
    {
      "cell_type": "code",
      "source": [
        "# For each stereotype category(16) show the pronoun and relevant token with highest and lowest cosine similarities\n",
        "# Groups data by stereotype category\n",
        "grouped = final_subset_df.groupby(\"stereotype\")\n",
        "\n",
        "# Iterates through each stereotype category\n",
        "for stereotype, group_df in grouped:\n",
        "    # Finds the highest and lowest cosine similarity for each category\n",
        "    highest_similarity_row = group_df.loc[group_df['cosine_similarity'].idxmax()]\n",
        "    lowest_similarity_row = group_df.loc[group_df['cosine_similarity'].idxmin()]\n",
        "\n",
        "    print(f\"Stereotype: {stereotype}\")\n",
        "    print(f\"  Highest Cosine Similarity:\")\n",
        "    print(f\"    Pronoun: {highest_similarity_row['pronoun']}\")\n",
        "    print(f\"    Relevant Token: {highest_similarity_row['relevant_token']}\")\n",
        "    print(f\"    Cosine Similarity: {highest_similarity_row['cosine_similarity']:.2f}\")\n",
        "    print(f\"  Lowest Cosine Similarity:\")\n",
        "    print(f\"    Pronoun: {lowest_similarity_row['pronoun']}\")\n",
        "    print(f\"    Relevant Token: {lowest_similarity_row['relevant_token']}\")\n",
        "    print(f\"    Cosine Similarity: {lowest_similarity_row['cosine_similarity']:.2f}\")\n",
        "    print(\"-\" * 20)"
      ],
      "metadata": {
        "id": "Uh3ab7hnXf53",
        "outputId": "b5b83634-efc3-4bf0-dd0f-5a2954e12324",
        "colab": {
          "base_uri": "https://localhost:8080/"
        }
      },
      "id": "Uh3ab7hnXf53",
      "execution_count": 71,
      "outputs": [
        {
          "output_type": "stream",
          "name": "stdout",
          "text": [
            "Stereotype: 1\n",
            "  Highest Cosine Similarity:\n",
            "    Pronoun: She\n",
            "    Relevant Token: day\n",
            "    Cosine Similarity: 0.98\n",
            "  Lowest Cosine Similarity:\n",
            "    Pronoun: She\n",
            "    Relevant Token: fights\n",
            "    Cosine Similarity: 0.95\n",
            "--------------------\n",
            "Stereotype: 2\n",
            "  Highest Cosine Similarity:\n",
            "    Pronoun: her\n",
            "    Relevant Token: food\n",
            "    Cosine Similarity: 0.99\n",
            "  Lowest Cosine Similarity:\n",
            "    Pronoun: She\n",
            "    Relevant Token: housewife\n",
            "    Cosine Similarity: 0.00\n",
            "--------------------\n",
            "Stereotype: 3\n",
            "  Highest Cosine Similarity:\n",
            "    Pronoun: She\n",
            "    Relevant Token: sons\n",
            "    Cosine Similarity: 0.98\n",
            "  Lowest Cosine Similarity:\n",
            "    Pronoun: She\n",
            "    Relevant Token: kind\n",
            "    Cosine Similarity: 0.94\n",
            "--------------------\n",
            "Stereotype: 4\n",
            "  Highest Cosine Similarity:\n",
            "    Pronoun: she\n",
            "    Relevant Token: neighbour\n",
            "    Cosine Similarity: 0.99\n",
            "  Lowest Cosine Similarity:\n",
            "    Pronoun: her\n",
            "    Relevant Token: greasy\n",
            "    Cosine Similarity: 0.00\n",
            "--------------------\n",
            "Stereotype: 5\n",
            "  Highest Cosine Similarity:\n",
            "    Pronoun: he\n",
            "    Relevant Token: rude\n",
            "    Cosine Similarity: 0.98\n",
            "  Lowest Cosine Similarity:\n",
            "    Pronoun: She\n",
            "    Relevant Token: bossy\n",
            "    Cosine Similarity: 0.00\n",
            "--------------------\n",
            "Stereotype: 6\n",
            "  Highest Cosine Similarity:\n",
            "    Pronoun: her\n",
            "    Relevant Token: brothers\n",
            "    Cosine Similarity: 0.99\n",
            "  Lowest Cosine Similarity:\n",
            "    Pronoun: She\n",
            "    Relevant Token: target\n",
            "    Cosine Similarity: 0.97\n",
            "--------------------\n",
            "Stereotype: 7\n",
            "  Highest Cosine Similarity:\n",
            "    Pronoun: she\n",
            "    Relevant Token: skirt\n",
            "    Cosine Similarity: 0.97\n",
            "  Lowest Cosine Similarity:\n",
            "    Pronoun: She\n",
            "    Relevant Token: fancy\n",
            "    Cosine Similarity: 0.96\n",
            "--------------------\n",
            "Stereotype: 8\n",
            "  Highest Cosine Similarity:\n",
            "    Pronoun: her\n",
            "    Relevant Token: apartment\n",
            "    Cosine Similarity: 0.99\n",
            "  Lowest Cosine Similarity:\n",
            "    Pronoun: He\n",
            "    Relevant Token: penis\n",
            "    Cosine Similarity: 0.96\n",
            "--------------------\n",
            "Stereotype: 9\n",
            "  Highest Cosine Similarity:\n",
            "    Pronoun: she\n",
            "    Relevant Token: love\n",
            "    Cosine Similarity: 0.97\n",
            "  Lowest Cosine Similarity:\n",
            "    Pronoun: He\n",
            "    Relevant Token: habit\n",
            "    Cosine Similarity: 0.94\n",
            "--------------------\n",
            "Stereotype: 10\n",
            "  Highest Cosine Similarity:\n",
            "    Pronoun: men\n",
            "    Relevant Token: polite\n",
            "    Cosine Similarity: 0.99\n",
            "  Lowest Cosine Similarity:\n",
            "    Pronoun: He\n",
            "    Relevant Token: successful\n",
            "    Cosine Similarity: 0.93\n",
            "--------------------\n",
            "Stereotype: 11\n",
            "  Highest Cosine Similarity:\n",
            "    Pronoun: his\n",
            "    Relevant Token: math\n",
            "    Cosine Similarity: 0.98\n",
            "  Lowest Cosine Similarity:\n",
            "    Pronoun: He\n",
            "    Relevant Token: touch\n",
            "    Cosine Similarity: 0.86\n",
            "--------------------\n",
            "Stereotype: 12\n",
            "  Highest Cosine Similarity:\n",
            "    Pronoun: she\n",
            "    Relevant Token: home\n",
            "    Cosine Similarity: 0.99\n",
            "  Lowest Cosine Similarity:\n",
            "    Pronoun: man\n",
            "    Relevant Token: carpenter\n",
            "    Cosine Similarity: 0.00\n",
            "--------------------\n",
            "Stereotype: 13\n",
            "  Highest Cosine Similarity:\n",
            "    Pronoun: he\n",
            "    Relevant Token: company\n",
            "    Cosine Similarity: 1.00\n",
            "  Lowest Cosine Similarity:\n",
            "    Pronoun: she\n",
            "    Relevant Token: bossy\n",
            "    Cosine Similarity: 0.00\n",
            "--------------------\n",
            "Stereotype: 14\n",
            "  Highest Cosine Similarity:\n",
            "    Pronoun: he\n",
            "    Relevant Token: friend\n",
            "    Cosine Similarity: 0.99\n",
            "  Lowest Cosine Similarity:\n",
            "    Pronoun: He\n",
            "    Relevant Token: life\n",
            "    Cosine Similarity: 0.96\n",
            "--------------------\n",
            "Stereotype: 15\n",
            "  Highest Cosine Similarity:\n",
            "    Pronoun: women\n",
            "    Relevant Token: attractive\n",
            "    Cosine Similarity: 0.99\n",
            "  Lowest Cosine Similarity:\n",
            "    Pronoun: women\n",
            "    Relevant Token: None\n",
            "    Cosine Similarity: 0.00\n",
            "--------------------\n",
            "Stereotype: 16\n",
            "  Highest Cosine Similarity:\n",
            "    Pronoun: women\n",
            "    Relevant Token: elderly\n",
            "    Cosine Similarity: 0.99\n",
            "  Lowest Cosine Similarity:\n",
            "    Pronoun: man\n",
            "    Relevant Token: decrepit\n",
            "    Cosine Similarity: 0.00\n",
            "--------------------\n"
          ]
        }
      ]
    },
    {
      "cell_type": "code",
      "source": [
        "plt.hist(final_subset_df['cosine_similarity'].dropna(), bins=30)\n",
        "plt.title(\"Distribution of Cosine Similarities\")\n",
        "plt.xlabel(\"Cosine Similarity\")\n",
        "plt.ylabel(\"Frequency\")\n",
        "plt.show()"
      ],
      "metadata": {
        "id": "ssuM3HNibmHa",
        "outputId": "61b0496d-47e4-44d2-923f-0ebd49e32062",
        "colab": {
          "base_uri": "https://localhost:8080/",
          "height": 472
        }
      },
      "id": "ssuM3HNibmHa",
      "execution_count": 73,
      "outputs": [
        {
          "output_type": "display_data",
          "data": {
            "text/plain": [
              "<Figure size 640x480 with 1 Axes>"
            ],
            "image/png": "[encoded data removed]"
          },
          "metadata": {}
        }
      ]
    }
  ],
  "metadata": {
    "accelerator": "GPU",
    "colab": {
      "gpuType": "L4",
      "machine_shape": "hm",
      "provenance": []
    },
    "kernelspec": {
      "display_name": "Python [conda env:neuralnetworks]",
      "language": "python",
      "name": "conda-env-neuralnetworks-py"
    },
    "language_info": {
      "codemirror_mode": {
        "name": "ipython",
        "version": 3
      },
      "file_extension": ".py",
      "mimetype": "text/x-python",
      "name": "python",
      "nbconvert_exporter": "python",
      "pygments_lexer": "ipython3",
      "version": "3.9.18"
    }
  },
  "nbformat": 4,
  "nbformat_minor": 5
}