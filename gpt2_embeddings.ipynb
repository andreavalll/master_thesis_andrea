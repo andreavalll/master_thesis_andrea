{
  "cells": [
    {
      "cell_type": "code",
      "execution_count": 1,
      "id": "0",
      "metadata": {
        "id": "0"
      },
      "outputs": [],
      "source": [
        "# Imports\n",
        "import pandas as pd\n",
        "import spacy\n",
        "import re\n",
        "import torch\n",
        "from transformers import GPT2Tokenizer, GPT2Model, AutoTokenizer\n",
        "from sklearn.metrics.pairwise import cosine_similarity\n",
        "import matplotlib.pyplot as plt"
      ]
    },
    {
      "cell_type": "code",
      "execution_count": 2,
      "id": "3",
      "metadata": {
        "id": "3",
        "colab": {
          "base_uri": "https://localhost:8080/"
        },
        "outputId": "c5de9ae7-7e87-45d0-c062-9e6c6a8bb913"
      },
      "outputs": [
        {
          "output_type": "stream",
          "name": "stdout",
          "text": [
            "Drive already mounted at /content/drive; to attempt to forcibly remount, call drive.mount(\"/content/drive\", force_remount=True).\n"
          ]
        }
      ],
      "source": [
        "from google.colab import drive\n",
        "drive.mount('/content/drive')"
      ]
    },
    {
      "cell_type": "code",
      "execution_count": 3,
      "id": "4",
      "metadata": {
        "id": "4"
      },
      "outputs": [],
      "source": [
        "file_path = '/content/drive/MyDrive/LLM_thesis/filtered_df.parquet'\n",
        "filtered_df = pd.read_parquet(file_path)"
      ]
    },
    {
      "cell_type": "markdown",
      "id": "22",
      "metadata": {
        "id": "22"
      },
      "source": [
        "#### Embedding Analysis for GPT-2 (baseline)"
      ]
    },
    {
      "cell_type": "markdown",
      "source": [
        "#### Creating a balanced subset for embedding analysis"
      ],
      "metadata": {
        "id": "D-fxkqKV7Uia"
      },
      "id": "D-fxkqKV7Uia"
    },
    {
      "cell_type": "code",
      "source": [
        "# Takes a subset of 5 sentences that contain gendered terms per category to ensure a balanced representation\n",
        "balanced_sample = []\n",
        "\n",
        "for cat in sorted(filtered_df[\"stereotype\"].unique()):\n",
        "    group = filtered_df[filtered_df[\"stereotype\"] == cat]\n",
        "\n",
        "    # Filters for gendered terms\n",
        "    gendered = group[group[\"sentence\"].str.lower().str.contains(r\"\\b(he|she|man|woman|boy|girl|his|her|men|women)\\b\")]\n",
        "\n",
        "    if len(gendered) >= 5:\n",
        "        sample = gendered.sample(n=5, random_state=42)\n",
        "        balanced_sample.append(sample)\n",
        "    else:\n",
        "        print(f\"⚠️ Not enough gendered examples in category {cat}: only {len(gendered)} found\")\n",
        "\n",
        "final_subset_df = pd.concat(balanced_sample).reset_index(drop=True)\n",
        "print(f\"Final balanced subset: {len(final_subset_df)} sentences\")"
      ],
      "metadata": {
        "colab": {
          "base_uri": "https://localhost:8080/"
        },
        "id": "a8H_Y3Rz7avZ",
        "outputId": "bb70a67e-43d3-4606-fa42-0c52aa627e44"
      },
      "id": "a8H_Y3Rz7avZ",
      "execution_count": 4,
      "outputs": [
        {
          "output_type": "stream",
          "name": "stdout",
          "text": [
            "Final balanced subset: 80 sentences\n"
          ]
        },
        {
          "output_type": "stream",
          "name": "stderr",
          "text": [
            "<ipython-input-4-b59fdc4ed290>:8: UserWarning: This pattern is interpreted as a regular expression, and has match groups. To actually get the groups, use str.extract.\n",
            "  gendered = group[group[\"sentence\"].str.lower().str.contains(r\"\\b(he|she|man|woman|boy|girl|his|her|men|women)\\b\")]\n"
          ]
        }
      ]
    },
    {
      "cell_type": "code",
      "source": [
        "import spacy\n",
        "nlp = spacy.load(\"en_core_web_sm\")\n",
        "\n",
        "def extract_gender_and_closest_token(text):\n",
        "    doc = nlp(text)\n",
        "    # Sampe pronouns/gendered terms used previously\n",
        "    gender_terms = {\"he\", \"she\", \"his\", \"her\", \"man\", \"woman\", \"boy\", \"girl\", \"women\", \"men\"}\n",
        "    gender_idxs = [i for i, token in enumerate(doc) if token.text.lower() in gender_terms]\n",
        "\n",
        "    if not gender_idxs:\n",
        "        return pd.Series([None, None])\n",
        "\n",
        "    # Uses the first gendered term for simplicity\n",
        "    gender_idx = gender_idxs[0]\n",
        "    gender_term = doc[gender_idx].text\n",
        "\n",
        "\n",
        "    # Candidates: nouns and adjectives, don't want unninformative words\n",
        "    uninformative_words = {\"lot\", \"lots\", \"many\", \"thing\", \"stuff\", \"one\", \"someone\"}\n",
        "    candidates = [(i, token.text, token.pos_) for i, token in enumerate(doc)\n",
        "                  if token.pos_ in {\"NOUN\", \"ADJ\"}\n",
        "                  and token.text.lower() not in gender_terms\n",
        "                  and not token.is_stop\n",
        "                  and token.text.lower() not in uninformative_words]\n",
        "\n",
        "    if not candidates:\n",
        "        return pd.Series([gender_term, None])\n",
        "\n",
        "    # Closest token by distance to gendered pronoun -> might change later\n",
        "    closest = min(candidates, key=lambda x: abs(x[0] - gender_idx))\n",
        "    closest_token = closest[1]\n",
        "\n",
        "    return pd.Series([gender_term, closest_token])"
      ],
      "metadata": {
        "id": "LIV1fzu4ClV1"
      },
      "id": "LIV1fzu4ClV1",
      "execution_count": 5,
      "outputs": []
    },
    {
      "cell_type": "code",
      "source": [
        "final_subset_df[[\"pronoun\", \"relevant_token\"]] = final_subset_df[\"sentence\"].apply(extract_gender_and_closest_token)"
      ],
      "metadata": {
        "id": "XeYFbW0qHqW0"
      },
      "id": "XeYFbW0qHqW0",
      "execution_count": 6,
      "outputs": []
    },
    {
      "cell_type": "markdown",
      "source": [
        "#### Computing cosine similarity at the token level for gendered term & adj/noun for GPT-2"
      ],
      "metadata": {
        "id": "tzoYC62bK-Gf"
      },
      "id": "tzoYC62bK-Gf"
    },
    {
      "cell_type": "markdown",
      "source": [
        "Sources:\n",
        "- https://huggingface.co/docs/transformers/main_classes/tokenizer\n",
        "- https://medium.com/@khiljidanial/cosine-similarity-using-gpt-models-35b6b9685d70"
      ],
      "metadata": {
        "id": "fdD8A0ozOM3U"
      },
      "id": "fdD8A0ozOM3U"
    },
    {
      "cell_type": "code",
      "source": [
        "tokenizer = GPT2Tokenizer.from_pretrained(\"openai-community/gpt2\")\n",
        "model = GPT2Model.from_pretrained(\"openai-community/gpt2\")"
      ],
      "metadata": {
        "id": "E0ACXEa2I2Y-"
      },
      "id": "E0ACXEa2I2Y-",
      "execution_count": 7,
      "outputs": []
    },
    {
      "cell_type": "code",
      "source": [
        "model.eval()\n",
        "device = torch.device(\"cuda\" if torch.cuda.is_available() else \"cpu\")\n",
        "model.to(device)"
      ],
      "metadata": {
        "id": "V4jTnU1VMOSl"
      },
      "id": "V4jTnU1VMOSl",
      "execution_count": 8,
      "outputs": []
    },
    {
      "cell_type": "code",
      "source": [
        "def get_token_embedding(text, target_token):\n",
        "    if not target_token:\n",
        "      return None\n",
        "    inputs = tokenizer(text, return_tensors=\"pt\", truncation=True).to(device)\n",
        "    tokens = tokenizer.convert_ids_to_tokens(inputs[\"input_ids\"].squeeze())\n",
        "\n",
        "    # Match by substring ignoring case\n",
        "    match_indices = [i for i, tok in enumerate(tokens) if target_token.lower() in tok.lower()]\n",
        "    if not match_indices:\n",
        "        return None\n",
        "\n",
        "    with torch.no_grad():\n",
        "        outputs = model(**inputs)\n",
        "        last_hidden_state = outputs.last_hidden_state.squeeze(0)\n",
        "\n",
        "    return last_hidden_state[match_indices[0]].cpu().numpy()"
      ],
      "metadata": {
        "id": "LTWbgwqpMQ4I"
      },
      "id": "LTWbgwqpMQ4I",
      "execution_count": 9,
      "outputs": []
    },
    {
      "cell_type": "code",
      "source": [
        "# Function to compute cosine similarity\n",
        "def compute_cosine(row):\n",
        "    sentence = row[\"sentence\"]\n",
        "    pronoun = row[\"pronoun\"]\n",
        "    token = row[\"relevant_token\"]\n",
        "\n",
        "    emb_pronoun = get_token_embedding(sentence, pronoun)\n",
        "    emb_token = get_token_embedding(sentence, token)\n",
        "    if emb_pronoun is None or emb_token is None:\n",
        "        return 0.0\n",
        "\n",
        "    return cosine_similarity([emb_pronoun], [emb_token])[0][0]"
      ],
      "metadata": {
        "id": "0RaYGY3eOz_T"
      },
      "id": "0RaYGY3eOz_T",
      "execution_count": 10,
      "outputs": []
    },
    {
      "cell_type": "code",
      "source": [
        "final_subset_df[\"cosine_similarity\"] = final_subset_df.apply(compute_cosine, axis=1)"
      ],
      "metadata": {
        "id": "BtifPMRxQNPP"
      },
      "id": "BtifPMRxQNPP",
      "execution_count": 11,
      "outputs": []
    },
    {
      "cell_type": "code",
      "source": [
        "plt.hist(final_subset_df['cosine_similarity'].dropna(), bins=30)\n",
        "plt.title(\"Distribution of Cosine Similarities\")\n",
        "plt.xlabel(\"Cosine Similarity\")\n",
        "plt.ylabel(\"Frequency\")\n",
        "plt.show()"
      ],
      "metadata": {
        "colab": {
          "base_uri": "https://localhost:8080/",
          "height": 472
        },
        "id": "ssuM3HNibmHa",
        "outputId": "894ebf72-bab3-48f7-e212-9a4ba259b6ea"
      },
      "id": "ssuM3HNibmHa",
      "execution_count": 12,
      "outputs": [
        {
          "output_type": "display_data",
          "data": {
            "text/plain": [
              "<Figure size 640x480 with 1 Axes>"
            ],
            "image/png": "[encoded data removed]"
          },
          "metadata": {}
        }
      ]
    },
    {
      "cell_type": "code",
      "source": [
        "# For each stereotype category(16) show the pronoun and relevant token with highest and lowest cosine similarities\n",
        "# Groups data by stereotype category\n",
        "grouped = final_subset_df.groupby(\"stereotype\")\n",
        "\n",
        "# Iterates through each stereotype category\n",
        "for stereotype, group_df in grouped:\n",
        "    # Filters out rows where relevant_token is None for lowest similarity\n",
        "    valid_rows = group_df[group_df[\"relevant_token\"].notna()]\n",
        "    # Finds the highest and lowest cosine similarity for each category\n",
        "    highest_similarity_row = valid_rows.loc[valid_rows['cosine_similarity'].idxmax()]\n",
        "    lowest_similarity_row = valid_rows.loc[valid_rows['cosine_similarity'].idxmin()]\n",
        "\n",
        "    print(f\"Stereotype: {stereotype}\")\n",
        "    print(f\"  Highest Cosine Similarity:\")\n",
        "    print(f\"    Pronoun: {highest_similarity_row['pronoun']}\")\n",
        "    print(f\"    Relevant Token: {highest_similarity_row['relevant_token']}\")\n",
        "    print(f\"    Cosine Similarity: {highest_similarity_row['cosine_similarity']:.2f}\")\n",
        "    print(f\"  Lowest Cosine Similarity:\")\n",
        "    print(f\"    Pronoun: {lowest_similarity_row['pronoun']}\")\n",
        "    print(f\"    Relevant Token: {lowest_similarity_row['relevant_token']}\")\n",
        "    print(f\"    Cosine Similarity: {lowest_similarity_row['cosine_similarity']:.2f}\")\n",
        "    print(\"-\" * 20)"
      ],
      "metadata": {
        "colab": {
          "base_uri": "https://localhost:8080/"
        },
        "id": "Uh3ab7hnXf53",
        "outputId": "7e0ab9f2-3cdc-4995-83ba-ac3fa5ac933f"
      },
      "id": "Uh3ab7hnXf53",
      "execution_count": 13,
      "outputs": [
        {
          "output_type": "stream",
          "name": "stdout",
          "text": [
            "Stereotype: 1\n",
            "  Highest Cosine Similarity:\n",
            "    Pronoun: She\n",
            "    Relevant Token: day\n",
            "    Cosine Similarity: 0.98\n",
            "  Lowest Cosine Similarity:\n",
            "    Pronoun: She\n",
            "    Relevant Token: fights\n",
            "    Cosine Similarity: 0.95\n",
            "--------------------\n",
            "Stereotype: 2\n",
            "  Highest Cosine Similarity:\n",
            "    Pronoun: her\n",
            "    Relevant Token: food\n",
            "    Cosine Similarity: 0.99\n",
            "  Lowest Cosine Similarity:\n",
            "    Pronoun: She\n",
            "    Relevant Token: housewife\n",
            "    Cosine Similarity: 0.00\n",
            "--------------------\n",
            "Stereotype: 3\n",
            "  Highest Cosine Similarity:\n",
            "    Pronoun: She\n",
            "    Relevant Token: sons\n",
            "    Cosine Similarity: 0.98\n",
            "  Lowest Cosine Similarity:\n",
            "    Pronoun: She\n",
            "    Relevant Token: kind\n",
            "    Cosine Similarity: 0.94\n",
            "--------------------\n",
            "Stereotype: 4\n",
            "  Highest Cosine Similarity:\n",
            "    Pronoun: she\n",
            "    Relevant Token: neighbour\n",
            "    Cosine Similarity: 0.99\n",
            "  Lowest Cosine Similarity:\n",
            "    Pronoun: her\n",
            "    Relevant Token: greasy\n",
            "    Cosine Similarity: 0.00\n",
            "--------------------\n",
            "Stereotype: 5\n",
            "  Highest Cosine Similarity:\n",
            "    Pronoun: he\n",
            "    Relevant Token: rude\n",
            "    Cosine Similarity: 0.98\n",
            "  Lowest Cosine Similarity:\n",
            "    Pronoun: She\n",
            "    Relevant Token: bossy\n",
            "    Cosine Similarity: 0.00\n",
            "--------------------\n",
            "Stereotype: 6\n",
            "  Highest Cosine Similarity:\n",
            "    Pronoun: her\n",
            "    Relevant Token: brothers\n",
            "    Cosine Similarity: 0.99\n",
            "  Lowest Cosine Similarity:\n",
            "    Pronoun: She\n",
            "    Relevant Token: target\n",
            "    Cosine Similarity: 0.97\n",
            "--------------------\n",
            "Stereotype: 7\n",
            "  Highest Cosine Similarity:\n",
            "    Pronoun: she\n",
            "    Relevant Token: skirt\n",
            "    Cosine Similarity: 0.97\n",
            "  Lowest Cosine Similarity:\n",
            "    Pronoun: She\n",
            "    Relevant Token: fancy\n",
            "    Cosine Similarity: 0.96\n",
            "--------------------\n",
            "Stereotype: 8\n",
            "  Highest Cosine Similarity:\n",
            "    Pronoun: her\n",
            "    Relevant Token: apartment\n",
            "    Cosine Similarity: 0.99\n",
            "  Lowest Cosine Similarity:\n",
            "    Pronoun: He\n",
            "    Relevant Token: penis\n",
            "    Cosine Similarity: 0.96\n",
            "--------------------\n",
            "Stereotype: 9\n",
            "  Highest Cosine Similarity:\n",
            "    Pronoun: she\n",
            "    Relevant Token: love\n",
            "    Cosine Similarity: 0.97\n",
            "  Lowest Cosine Similarity:\n",
            "    Pronoun: He\n",
            "    Relevant Token: habit\n",
            "    Cosine Similarity: 0.94\n",
            "--------------------\n",
            "Stereotype: 10\n",
            "  Highest Cosine Similarity:\n",
            "    Pronoun: men\n",
            "    Relevant Token: polite\n",
            "    Cosine Similarity: 0.99\n",
            "  Lowest Cosine Similarity:\n",
            "    Pronoun: He\n",
            "    Relevant Token: successful\n",
            "    Cosine Similarity: 0.93\n",
            "--------------------\n",
            "Stereotype: 11\n",
            "  Highest Cosine Similarity:\n",
            "    Pronoun: his\n",
            "    Relevant Token: math\n",
            "    Cosine Similarity: 0.98\n",
            "  Lowest Cosine Similarity:\n",
            "    Pronoun: He\n",
            "    Relevant Token: touch\n",
            "    Cosine Similarity: 0.86\n",
            "--------------------\n",
            "Stereotype: 12\n",
            "  Highest Cosine Similarity:\n",
            "    Pronoun: she\n",
            "    Relevant Token: home\n",
            "    Cosine Similarity: 0.99\n",
            "  Lowest Cosine Similarity:\n",
            "    Pronoun: man\n",
            "    Relevant Token: carpenter\n",
            "    Cosine Similarity: 0.00\n",
            "--------------------\n",
            "Stereotype: 13\n",
            "  Highest Cosine Similarity:\n",
            "    Pronoun: he\n",
            "    Relevant Token: company\n",
            "    Cosine Similarity: 1.00\n",
            "  Lowest Cosine Similarity:\n",
            "    Pronoun: she\n",
            "    Relevant Token: bossy\n",
            "    Cosine Similarity: 0.00\n",
            "--------------------\n",
            "Stereotype: 14\n",
            "  Highest Cosine Similarity:\n",
            "    Pronoun: he\n",
            "    Relevant Token: friend\n",
            "    Cosine Similarity: 0.99\n",
            "  Lowest Cosine Similarity:\n",
            "    Pronoun: He\n",
            "    Relevant Token: life\n",
            "    Cosine Similarity: 0.96\n",
            "--------------------\n",
            "Stereotype: 15\n",
            "  Highest Cosine Similarity:\n",
            "    Pronoun: women\n",
            "    Relevant Token: attractive\n",
            "    Cosine Similarity: 0.99\n",
            "  Lowest Cosine Similarity:\n",
            "    Pronoun: He\n",
            "    Relevant Token: gym\n",
            "    Cosine Similarity: 0.97\n",
            "--------------------\n",
            "Stereotype: 16\n",
            "  Highest Cosine Similarity:\n",
            "    Pronoun: women\n",
            "    Relevant Token: elderly\n",
            "    Cosine Similarity: 0.99\n",
            "  Lowest Cosine Similarity:\n",
            "    Pronoun: man\n",
            "    Relevant Token: decrepit\n",
            "    Cosine Similarity: 0.00\n",
            "--------------------\n"
          ]
        }
      ]
    },
    {
      "cell_type": "markdown",
      "source": [
        "### Conclusions\n",
        "As GPT-2 is not instruction-tuned, its associations are derived purely from co-occurrence patterns in pretraining data, without explicit alignment to human social norms.\n",
        "\n",
        "- Strongly stereotypical patterns were observed in categories 3, 4, 5, 7, 10, 11, 13, 14, 15, and 16. For example, “man” was highly dissimilar to “decrepit” (score = 0) in the “men are strong” stereotype, and “he” was highly similar to “company” (score = 1.00) in the “men are leaders” category.\n",
        "\n",
        "- Anti-stereotypical associations appeared in categories 2, 9, and 12. Notably, “she” and “housewife” scored 0 in category 2 (“women are submissive”), and “man” and “carpenter” scored 0 in category 12 (“men are providers”) — reversing traditional expectations.\n",
        "\n",
        "- Some categories, such as 1, 6, 8, were more ambiguous. These results showed high similarity values overall, but the semantic relevance to the underlying stereotype was more indirect.\n",
        "- Importantly, even when high cosine similarity scores are observed, they often seem to be driven more by surface-level contextual associations rather than deep stereotype encoding. For instance, “her & apartment” and “she & neighbor” achieved high similarity, but are unlikely to represent stereotype-driven connections. This supports GPT-2’s role as a baseline model and justifies further comparison with instruction-tuned models like LLaMA-2, which may encode stereotype-related patterns more explicitly and systematically."
      ],
      "metadata": {
        "id": "Ha_0q0V-cXux"
      },
      "id": "Ha_0q0V-cXux"
    },
    {
      "cell_type": "markdown",
      "source": [
        "### Loking at categories that showed some anti-stereotypical patterns: 2, 9, 12"
      ],
      "metadata": {
        "id": "2WEFOEayfzJE"
      },
      "id": "2WEFOEayfzJE"
    },
    {
      "cell_type": "code",
      "source": [
        "# Filters for categories 2, 9, and 12\n",
        "filtered_categories = final_subset_df[final_subset_df[\"stereotype\"].isin([2, 9, 12])]\n",
        "\n",
        "# Displays all cosine similarity scores for the filtered categories\n",
        "\n",
        "for index, row in filtered_categories.iterrows():\n",
        "    print(f\"Stereotype: {row['stereotype']}\")\n",
        "    print(f\"  Pronoun: {row['pronoun']}\")\n",
        "    print(f\"  Relevant Token: {row['relevant_token']}\")\n",
        "    print(f\"  Cosine Similarity: {row['cosine_similarity']:.2f}\")\n",
        "    print(\"-\" * 20)"
      ],
      "metadata": {
        "id": "SwsmlzZGfJdl"
      },
      "id": "SwsmlzZGfJdl",
      "execution_count": 14,
      "outputs": []
    },
    {
      "cell_type": "markdown",
      "source": [
        "Stereotype 2: \"Women are gentle, kind, and submissive\" ->\n",
        "The contrast between household and housewife is striking. Although the two are semantically similar, GPT-2 assigns a cosine similarity of 0 to she & housewife, while her & food (0.99), she & household (0.96), and she & kind (0.95) receive much higher scores. This may indicate that housewife is less common or more marginalized in the model’s training data, whereas domestic traits are more frequently associated with women through broader co-occurrence patterns.\n",
        "\n",
        "Stereotype 9: \"Men are self-confident\" ->\n",
        "This category aligns moderately well with the stereotype. He & mirror (0.97), he & strong (0.97), and he & vain (0.96) all suggest a connection to self-image and confidence. Interestingly, she & love also scores 0.97, suggesting that some associations may be driven by general contextual proximity rather than stereotype-specific encoding.\n",
        "\n",
        "Stereotype 12: \"Men are providers\" ->\n",
        "Here, the model shows no meaningful alignment with the stereotype. Tokens traditionally linked to male provider roles—such as man & carpenter and he & studious—score 0.00, while she & home (0.99), her & mom (0.98), and he & living (0.96) are rated more highly. This suggests a stronger association between women and domestic settings, revealing a gendered asymmetry in how GPT-2 represents provision and care."
      ],
      "metadata": {
        "id": "aqnJWxDqk6on"
      },
      "id": "aqnJWxDqk6on"
    },
    {
      "cell_type": "markdown",
      "source": [
        "### Controls to validate findings:"
      ],
      "metadata": {
        "id": "9Bbk2Q1KSrUG"
      },
      "id": "9Bbk2Q1KSrUG"
    },
    {
      "cell_type": "code",
      "source": [
        "# Compute cosine similarity for \"she\" and \"her\"\n",
        "she_embedding = get_token_embedding(\"She is a woman.\", \"she\")\n",
        "her_embedding = get_token_embedding(\"Her car is red.\", \"her\")\n",
        "\n",
        "if she_embedding is not None and her_embedding is not None:\n",
        "    similarity = cosine_similarity([she_embedding], [her_embedding])[0][0]\n",
        "    print(f\"Cosine similarity between 'she' and 'her': {similarity}\")"
      ],
      "metadata": {
        "colab": {
          "base_uri": "https://localhost:8080/"
        },
        "id": "FLo1c7fkQ6Xm",
        "outputId": "53afab50-ec10-4051-a7e0-ebdb0bdba4c6"
      },
      "id": "FLo1c7fkQ6Xm",
      "execution_count": 15,
      "outputs": [
        {
          "output_type": "stream",
          "name": "stdout",
          "text": [
            "Cosine similarity between 'she' and 'her': 0.9948619604110718\n"
          ]
        }
      ]
    },
    {
      "cell_type": "code",
      "source": [
        "# Compute cosine similarity for \"he\" and \"his\"\n",
        "he_embedding = get_token_embedding(\"He is a man.\", \"he\")\n",
        "his_embedding = get_token_embedding(\"His car is red.\", \"his\")\n",
        "\n",
        "if he_embedding is not None and his_embedding is not None:\n",
        "    similarity = cosine_similarity([he_embedding], [his_embedding])[0][0]\n",
        "    print(f\"Cosine similarity between 'he' and 'his': {similarity}\")"
      ],
      "metadata": {
        "colab": {
          "base_uri": "https://localhost:8080/"
        },
        "id": "KSwjxlGITyts",
        "outputId": "b357ce5a-ced1-461d-ae34-0cdd1ee8f9c8"
      },
      "id": "KSwjxlGITyts",
      "execution_count": 16,
      "outputs": [
        {
          "output_type": "stream",
          "name": "stdout",
          "text": [
            "Cosine similarity between 'he' and 'his': 0.9923744201660156\n"
          ]
        }
      ]
    },
    {
      "cell_type": "markdown",
      "source": [
        "### Conclusions for this part:\n",
        "Because GPT-2 is not instruction-tuned, it does not explicitly align its outputs with human social norms or fairness objectives. Instead, it appears to reflect word co-occurrence and frequency-based associations learned from its pretraining corpus. However, to some extent, these associations can still mirror real-world gender stereotypes, simply because such patterns are embedded in the data it was trained on. In this sense, GPT-2 reveals how statistical learning alone can reproduce biased patterns—even without any intentional alignment. This makes it a valuable baseline for comparison with instruction-tuned models like LLaMA-2, which are more likely to exhibit systematic and socially meaningful biases due to fine-tuning on human-aligned data."
      ],
      "metadata": {
        "id": "FzJyL0Ryf8D9"
      },
      "id": "FzJyL0Ryf8D9"
    },
    {
      "cell_type": "markdown",
      "source": [
        "### Computing cosine similarity at the sentence level"
      ],
      "metadata": {
        "id": "AsIb8KsTUMPc"
      },
      "id": "AsIb8KsTUMPc"
    },
    {
      "cell_type": "markdown",
      "source": [
        "Using the same subset of sentences final_subset_df, create gender-swapped versions of each sentence (e.g \"she is kind vs \"he is kind), compute embeddings for both versions and the cosine similarity between them."
      ],
      "metadata": {
        "id": "xVhGr2HPXpUa"
      },
      "id": "xVhGr2HPXpUa"
    },
    {
      "cell_type": "code",
      "source": [
        "# Define mapping for simple swaps (case-sensitive)\n",
        "gender_map = {\n",
        "    \"she\": \"he\", \"her\": \"his\", \"hers\": \"his\", \"herself\": \"himself\",\n",
        "    \"he\": \"she\", \"his\": \"her\", \"him\": \"her\", \"himself\": \"herself\",\n",
        "    \"woman\": \"man\", \"women\": \"men\", \"girl\": \"boy\", \"girls\": \"boys\",\n",
        "    \"man\": \"woman\", \"men\": \"women\", \"boy\": \"girl\", \"boys\": \"girls\",\n",
        "    \"husband\": \"wife\", \"housebands\":\"wives\",\n",
        "}"
      ],
      "metadata": {
        "id": "V70bnDyeYPS7"
      },
      "id": "V70bnDyeYPS7",
      "execution_count": 28,
      "outputs": []
    },
    {
      "cell_type": "code",
      "source": [
        "def swap_gender(sentence):\n",
        "    def replacer(match):\n",
        "        word = match.group(0)\n",
        "        lower = word.lower()\n",
        "        if lower in gender_map:\n",
        "            swapped = gender_map[lower]\n",
        "            return swapped.capitalize() if word[0].isupper() else swapped\n",
        "        return word\n",
        "\n",
        "    pattern = re.compile(r'\\b(' + '|'.join(gender_map.keys()) + r')\\b', flags=re.IGNORECASE)\n",
        "    return pattern.sub(replacer, sentence)"
      ],
      "metadata": {
        "id": "eIzh82JuYqza"
      },
      "id": "eIzh82JuYqza",
      "execution_count": 29,
      "outputs": []
    },
    {
      "cell_type": "code",
      "source": [
        "final_subset_df[\"swapped_sentence\"] = final_subset_df[\"sentence\"].apply(swap_gender)"
      ],
      "metadata": {
        "id": "xZYE_MzTYu6M"
      },
      "id": "xZYE_MzTYu6M",
      "execution_count": 30,
      "outputs": []
    },
    {
      "cell_type": "code",
      "source": [
        "# final_subset_df.head(50)\n",
        "# gender swap looks correct"
      ],
      "metadata": {
        "id": "wwat7VRrYvgE"
      },
      "id": "wwat7VRrYvgE",
      "execution_count": 35,
      "outputs": []
    },
    {
      "cell_type": "code",
      "source": [
        "# Getting average-pooled sentence embedding from GPT-2\n",
        "def get_sentence_embedding(text):\n",
        "    inputs = tokenizer(text, return_tensors=\"pt\", truncation=True, max_length=128).to(device)\n",
        "    with torch.no_grad():\n",
        "        outputs = model(**inputs)\n",
        "        last_hidden_state = outputs.last_hidden_state\n",
        "        embedding = last_hidden_state.mean(dim=1).squeeze()\n",
        "    return embedding.cpu().numpy()"
      ],
      "metadata": {
        "id": "KWGeTrKZYxk8"
      },
      "id": "KWGeTrKZYxk8",
      "execution_count": 33,
      "outputs": []
    },
    {
      "cell_type": "code",
      "source": [
        "# cosine similarity for sentences:\n",
        "def compute_sentence_cosine(row):\n",
        "    orig_emb = get_sentence_embedding(row[\"sentence\"])\n",
        "    swapped_emb = get_sentence_embedding(row[\"swapped_sentence\"])\n",
        "    return cosine_similarity([orig_emb], [swapped_emb])[0][0]\n",
        "\n",
        "final_subset_df[\"sentence_cosine_similarity\"] = final_subset_df.apply(compute_sentence_cosine, axis=1)"
      ],
      "metadata": {
        "id": "SqLkdgRcZucj"
      },
      "id": "SqLkdgRcZucj",
      "execution_count": 36,
      "outputs": []
    },
    {
      "cell_type": "code",
      "source": [
        "plt.hist(final_subset_df['sentence_cosine_similarity'].dropna(), bins=30)\n",
        "plt.title(\"Distribution of Sentence Cosine Similarities\")\n",
        "plt.xlabel(\"Sentence Cosine Similarity\")\n",
        "plt.ylabel(\"Frequency\")\n",
        "plt.show()"
      ],
      "metadata": {
        "colab": {
          "base_uri": "https://localhost:8080/",
          "height": 472
        },
        "id": "Pkqf-WuBa9Z3",
        "outputId": "9ad6225f-c25e-4050-b816-74ff681394fc"
      },
      "id": "Pkqf-WuBa9Z3",
      "execution_count": 40,
      "outputs": [
        {
          "output_type": "display_data",
          "data": {
            "text/plain": [
              "<Figure size 640x480 with 1 Axes>"
            ],
            "image/png": "[encoded data removed]"
          },
          "metadata": {}
        }
      ]
    },
    {
      "cell_type": "markdown",
      "source": [
        "The histogram shows that all sentence-level cosine similarities are extremely high (greater than 0.9995), indicating that gender-swapped versions of the same sentence (e.g., “She is kind” vs. “He is kind”) are represented very closely in GPT-2’s embedding space. This suggests that GPT-2, being a non-instruction-tuned model, does not encode strong gender-based semantic distinctions at the sentence level — making it a reliable baseline for further bias analysis.\n",
        "\n",
        "At the token level, however, the high cosine similarity between gendered pronouns and certain adjectives or nouns likely reflects common co-occurrence patterns in the pretraining data, rather than explicit stereotype encoding. This further supports that GPT-2’s associations stem from frequency and distributional regularities rather than explicit social bias alignment."
      ],
      "metadata": {
        "id": "zFg9vrtFczve"
      },
      "id": "zFg9vrtFczve"
    }
  ],
  "metadata": {
    "accelerator": "GPU",
    "colab": {
      "gpuType": "A100",
      "machine_shape": "hm",
      "provenance": []
    },
    "kernelspec": {
      "display_name": "Python [conda env:neuralnetworks]",
      "language": "python",
      "name": "conda-env-neuralnetworks-py"
    },
    "language_info": {
      "codemirror_mode": {
        "name": "ipython",
        "version": 3
      },
      "file_extension": ".py",
      "mimetype": "text/x-python",
      "name": "python",
      "nbconvert_exporter": "python",
      "pygments_lexer": "ipython3",
      "version": "3.9.18"
    }
  },
  "nbformat": 4,
  "nbformat_minor": 5
}