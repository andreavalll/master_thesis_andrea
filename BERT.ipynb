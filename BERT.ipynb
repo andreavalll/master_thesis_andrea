{
  "nbformat": 4,
  "nbformat_minor": 0,
  "metadata": {
    "colab": {
      "provenance": [],
      "machine_shape": "hm",
      "gpuType": "A100"
    },
    "kernelspec": {
      "name": "python3",
      "display_name": "Python 3"
    },
    "language_info": {
      "name": "python"
    },
    "accelerator": "GPU"
  },
  "cells": [
    {
      "cell_type": "code",
      "execution_count": 1,
      "metadata": {
        "id": "TLWVKHITCXhS"
      },
      "outputs": [],
      "source": [
        "# Imports\n",
        "import pandas as pd\n",
        "import spacy\n",
        "import re\n",
        "import torch\n",
        "from transformers import BertTokenizer, BertModel\n",
        "from sklearn.metrics.pairwise import cosine_similarity\n",
        "import matplotlib.pyplot as plt\n",
        "from transformers import pipeline, set_seed\n",
        "import random"
      ]
    },
    {
      "cell_type": "code",
      "source": [
        "from google.colab import drive\n",
        "drive.mount('/content/drive')"
      ],
      "metadata": {
        "colab": {
          "base_uri": "https://localhost:8080/"
        },
        "id": "CdyxM2D7CrnS",
        "outputId": "f32d723d-3e2e-451f-eb69-06bfe146660f"
      },
      "execution_count": 2,
      "outputs": [
        {
          "output_type": "stream",
          "name": "stdout",
          "text": [
            "Drive already mounted at /content/drive; to attempt to forcibly remount, call drive.mount(\"/content/drive\", force_remount=True).\n"
          ]
        }
      ]
    },
    {
      "cell_type": "code",
      "source": [
        "file_path = '/content/drive/MyDrive/LLM_thesis/filtered_df.parquet'\n",
        "filtered_df = pd.read_parquet(file_path)"
      ],
      "metadata": {
        "id": "qGkRK9LLCuG_"
      },
      "execution_count": 3,
      "outputs": []
    },
    {
      "cell_type": "markdown",
      "source": [
        "Creating a balanced subset for embedding analysis"
      ],
      "metadata": {
        "id": "qSI9Q0lDEZzj"
      }
    },
    {
      "cell_type": "code",
      "source": [
        "# Takes a subset of 5 sentences that contain gendered terms per category to ensure a balanced representation\n",
        "balanced_sample = []\n",
        "\n",
        "for cat in sorted(filtered_df[\"stereotype\"].unique()):\n",
        "    group = filtered_df[filtered_df[\"stereotype\"] == cat]\n",
        "\n",
        "    # Filters for gendered terms\n",
        "    gendered = group[group[\"sentence\"].str.lower().str.contains(r\"\\b(he|she|man|woman|boy|girl|his|her|men|women)\\b\")]\n",
        "\n",
        "    if len(gendered) >= 5:\n",
        "        sample = gendered.sample(n=5, random_state=42)\n",
        "        balanced_sample.append(sample)\n",
        "    else:\n",
        "        print(f\"⚠️ Not enough gendered examples in category {cat}: only {len(gendered)} found\")\n",
        "\n",
        "final_subset_df = pd.concat(balanced_sample).reset_index(drop=True)\n",
        "print(f\"Final balanced subset: {len(final_subset_df)} sentences\")\n",
        "final_subset_df.to_parquet(\"subset_df.parquet\", index=False) # save to parquet"
      ],
      "metadata": {
        "colab": {
          "base_uri": "https://localhost:8080/"
        },
        "id": "jPMeUb5xCvlU",
        "outputId": "89b928e1-2533-4379-d5ae-6efe0ba409e3"
      },
      "execution_count": 4,
      "outputs": [
        {
          "output_type": "stream",
          "name": "stdout",
          "text": [
            "Final balanced subset: 80 sentences\n"
          ]
        },
        {
          "output_type": "stream",
          "name": "stderr",
          "text": [
            "<ipython-input-4-39748838d653>:8: UserWarning: This pattern is interpreted as a regular expression, and has match groups. To actually get the groups, use str.extract.\n",
            "  gendered = group[group[\"sentence\"].str.lower().str.contains(r\"\\b(he|she|man|woman|boy|girl|his|her|men|women)\\b\")]\n"
          ]
        }
      ]
    },
    {
      "cell_type": "markdown",
      "source": [
        "### Improving extraction logic (first tying dependency-based adjectives/nouns, and if there are none then we have the proximity fallback)"
      ],
      "metadata": {
        "id": "2fzAXWnRV8C1"
      }
    },
    {
      "cell_type": "code",
      "source": [
        "def extract_gender_and_closest_token(text):\n",
        "    doc = nlp(text)\n",
        "    gender_terms = {\"he\", \"she\", \"his\", \"her\", \"man\", \"woman\", \"boy\", \"girl\", \"women\", \"men\"}\n",
        "    gender_idxs = [i for i, token in enumerate(doc) if token.text.lower() in gender_terms]\n",
        "\n",
        "    if not gender_idxs:\n",
        "        return pd.Series([None, None])\n",
        "\n",
        "    gender_token = doc[gender_idxs[0]]\n",
        "    gender_term = gender_token.text\n",
        "\n",
        "    # First try: dependency-based related adjectives/nouns\n",
        "    related = [child.text for child in gender_token.children\n",
        "               if child.pos_ in {\"ADJ\", \"NOUN\"} and not child.is_stop]\n",
        "\n",
        "    if related:\n",
        "        return pd.Series([gender_term, related[0]])\n",
        "\n",
        "    # Fallback: distance-based\n",
        "    uninformative_words = {\"lot\", \"lots\", \"many\", \"thing\", \"stuff\", \"one\", \"someone\"}\n",
        "    candidates = [(i, token.text) for i, token in enumerate(doc)\n",
        "                  if token.pos_ in {\"NOUN\", \"ADJ\"}\n",
        "                  and token.text.lower() not in gender_terms\n",
        "                  and not token.is_stop\n",
        "                  and token.text.lower() not in uninformative_words]\n",
        "\n",
        "    if not candidates:\n",
        "        return pd.Series([gender_term, None])\n",
        "\n",
        "    closest = min(candidates, key=lambda x: abs(x[0] - gender_token.i))\n",
        "    return pd.Series([gender_term, closest[1]])"
      ],
      "metadata": {
        "id": "TViIPRQIOTk8"
      },
      "execution_count": 8,
      "outputs": []
    },
    {
      "cell_type": "code",
      "source": [
        "final_subset_df[[\"pronoun\", \"relevant_token\"]] = final_subset_df[\"sentence\"].apply(extract_gender_and_closest_token)"
      ],
      "metadata": {
        "id": "QJCflTm5Gxla"
      },
      "execution_count": 9,
      "outputs": []
    },
    {
      "cell_type": "markdown",
      "source": [
        "### Switching baseline model to BERT\n",
        "- I am switching the baseline model from GPT-2 to BERT because BERT supports masked completions, making it easier to design and evaluate prompt-based sentence completions in a structured way. This allows for a more direct comparison with LLaMA-2, which will also be used for completion-based prompts. To quantify bias, masking the pronoun and prompting the model to complete the sentence provides a clearer and more interpretable signal of gender associations in the model's outputs."
      ],
      "metadata": {
        "id": "JM7YULjOEctr"
      }
    },
    {
      "cell_type": "markdown",
      "source": [
        "Sources:\n",
        "- https://huggingface.co/docs/transformers/model_doc/bert\n",
        "- https://bert-vs-gpt2.dbvis.de/"
      ],
      "metadata": {
        "id": "-ORmlQVWE9mE"
      }
    },
    {
      "cell_type": "code",
      "source": [
        "tokenizer = BertTokenizer.from_pretrained(\"bert-base-uncased\")\n",
        "model = BertModel.from_pretrained(\"bert-base-uncased\")\n",
        "device = torch.device(\"cuda\" if torch.cuda.is_available() else \"cpu\")\n",
        "model.eval().to(device)"
      ],
      "metadata": {
        "colab": {
          "base_uri": "https://localhost:8080/"
        },
        "id": "-f6Zc50rE8uc",
        "outputId": "965ee4fc-259b-4347-a78f-bb29e9d68ba6"
      },
      "execution_count": 12,
      "outputs": [
        {
          "output_type": "stream",
          "name": "stderr",
          "text": [
            "/usr/local/lib/python3.11/dist-packages/huggingface_hub/utils/_auth.py:94: UserWarning: \n",
            "The secret `HF_TOKEN` does not exist in your Colab secrets.\n",
            "To authenticate with the Hugging Face Hub, create a token in your settings tab (https://huggingface.co/settings/tokens), set it as secret in your Google Colab and restart your session.\n",
            "You will be able to reuse this secret in all of your notebooks.\n",
            "Please note that authentication is recommended but still optional to access public models or datasets.\n",
            "  warnings.warn(\n"
          ]
        },
        {
          "output_type": "execute_result",
          "data": {
            "text/plain": [
              "BertModel(\n",
              "  (embeddings): BertEmbeddings(\n",
              "    (word_embeddings): Embedding(30522, 768, padding_idx=0)\n",
              "    (position_embeddings): Embedding(512, 768)\n",
              "    (token_type_embeddings): Embedding(2, 768)\n",
              "    (LayerNorm): LayerNorm((768,), eps=1e-12, elementwise_affine=True)\n",
              "    (dropout): Dropout(p=0.1, inplace=False)\n",
              "  )\n",
              "  (encoder): BertEncoder(\n",
              "    (layer): ModuleList(\n",
              "      (0-11): 12 x BertLayer(\n",
              "        (attention): BertAttention(\n",
              "          (self): BertSdpaSelfAttention(\n",
              "            (query): Linear(in_features=768, out_features=768, bias=True)\n",
              "            (key): Linear(in_features=768, out_features=768, bias=True)\n",
              "            (value): Linear(in_features=768, out_features=768, bias=True)\n",
              "            (dropout): Dropout(p=0.1, inplace=False)\n",
              "          )\n",
              "          (output): BertSelfOutput(\n",
              "            (dense): Linear(in_features=768, out_features=768, bias=True)\n",
              "            (LayerNorm): LayerNorm((768,), eps=1e-12, elementwise_affine=True)\n",
              "            (dropout): Dropout(p=0.1, inplace=False)\n",
              "          )\n",
              "        )\n",
              "        (intermediate): BertIntermediate(\n",
              "          (dense): Linear(in_features=768, out_features=3072, bias=True)\n",
              "          (intermediate_act_fn): GELUActivation()\n",
              "        )\n",
              "        (output): BertOutput(\n",
              "          (dense): Linear(in_features=3072, out_features=768, bias=True)\n",
              "          (LayerNorm): LayerNorm((768,), eps=1e-12, elementwise_affine=True)\n",
              "          (dropout): Dropout(p=0.1, inplace=False)\n",
              "        )\n",
              "      )\n",
              "    )\n",
              "  )\n",
              "  (pooler): BertPooler(\n",
              "    (dense): Linear(in_features=768, out_features=768, bias=True)\n",
              "    (activation): Tanh()\n",
              "  )\n",
              ")"
            ]
          },
          "metadata": {},
          "execution_count": 12
        }
      ]
    },
    {
      "cell_type": "markdown",
      "source": [
        "### Computing cosine similarity at the token level for gendered term & adj/noun for BERT"
      ],
      "metadata": {
        "id": "BqQz02NMHVKK"
      }
    },
    {
      "cell_type": "code",
      "source": [
        "# same function as gpt2\n",
        "def get_bert_token_embedding(text, target_token):\n",
        "    if not target_token:\n",
        "        return None\n",
        "    inputs = tokenizer(text, return_tensors=\"pt\", truncation=True, max_length=128).to(device)\n",
        "    tokens = tokenizer.convert_ids_to_tokens(inputs[\"input_ids\"].squeeze())\n",
        "\n",
        "    match_indices = [i for i, tok in enumerate(tokens) if target_token.lower() in tok.lower()]\n",
        "    if not match_indices:\n",
        "        return None\n",
        "\n",
        "    with torch.no_grad():\n",
        "        outputs = model(**inputs)\n",
        "        last_hidden_state = outputs.last_hidden_state.squeeze(0)\n",
        "\n",
        "    return last_hidden_state[match_indices[0]].cpu().numpy()\n"
      ],
      "metadata": {
        "id": "tpVwFdrdHXYb"
      },
      "execution_count": 13,
      "outputs": []
    },
    {
      "cell_type": "code",
      "source": [
        "# Function to compute cosine similarity\n",
        "def compute_cosine(row):\n",
        "    sentence = row[\"sentence\"]\n",
        "    pronoun = row[\"pronoun\"]\n",
        "    token = row[\"relevant_token\"]\n",
        "\n",
        "    emb_pronoun = get_bert_token_embedding(sentence, pronoun)\n",
        "    emb_token = get_bert_token_embedding(sentence, token)\n",
        "    if emb_pronoun is None or emb_token is None:\n",
        "        return 0.0\n",
        "\n",
        "    return cosine_similarity([emb_pronoun], [emb_token])[0][0]"
      ],
      "metadata": {
        "id": "NcSu7QE4H7UU"
      },
      "execution_count": 14,
      "outputs": []
    },
    {
      "cell_type": "code",
      "source": [
        "final_subset_df[\"cosine_similarity\"] = final_subset_df.apply(compute_cosine, axis=1)"
      ],
      "metadata": {
        "id": "-9RRVzEwH9YD"
      },
      "execution_count": 15,
      "outputs": []
    },
    {
      "cell_type": "code",
      "source": [
        "# final_subset_df.head(50)"
      ],
      "metadata": {
        "id": "TG6drS25SOZG"
      },
      "execution_count": 19,
      "outputs": []
    },
    {
      "cell_type": "code",
      "source": [
        "plt.hist(final_subset_df['cosine_similarity'].dropna(), bins=30)\n",
        "plt.title(\"Distribution of Cosine Similarities\")\n",
        "plt.xlabel(\"Cosine Similarity\")\n",
        "plt.ylabel(\"Frequency\")\n",
        "plt.show()"
      ],
      "metadata": {
        "colab": {
          "base_uri": "https://localhost:8080/",
          "height": 472
        },
        "id": "iz045dP_IXnz",
        "outputId": "827af660-ab56-4d0c-85de-e37ea73046d0"
      },
      "execution_count": 16,
      "outputs": [
        {
          "output_type": "display_data",
          "data": {
            "text/plain": [
              "<Figure size 640x480 with 1 Axes>"
            ],
            "image/png": "[encoded data removed]"
          },
          "metadata": {}
        }
      ]
    },
    {
      "cell_type": "markdown",
      "source": [
        "- BERT sees the words before and after a word when creating its embedding. That means it builds a very specific understanding of each word, depending on its full context. This leads to more variation in similarity scores. Therefore BERT's similarity scores are actually more discriminative.\n",
        "\n",
        "- GPT-2 only sees the words that come before a word. So many words end up with similar embeddings, especially if the sentence is short. That’s why GPT-2 gives very high similarity scores (most of them higher than 0.8)."
      ],
      "metadata": {
        "id": "BZE9jEIjJDPR"
      }
    },
    {
      "cell_type": "code",
      "source": [
        "# For each stereotype category(16) show the pronoun and relevant token with highest and lowest cosine similarities\n",
        "# Groups data by stereotype category\n",
        "grouped = final_subset_df.groupby(\"stereotype\")\n",
        "\n",
        "# Iterates through each stereotype category\n",
        "for stereotype, group_df in grouped:\n",
        "    # Filters out rows where relevant_token is None for lowest similarity\n",
        "    valid_rows = group_df[group_df[\"relevant_token\"].notna()]\n",
        "    # Finds the highest and lowest cosine similarity for each category\n",
        "    highest_similarity_row = valid_rows.loc[valid_rows['cosine_similarity'].idxmax()]\n",
        "    lowest_similarity_row = valid_rows.loc[valid_rows['cosine_similarity'].idxmin()]\n",
        "\n",
        "    print(f\"Stereotype: {stereotype}\")\n",
        "    print(f\"  Highest Cosine Similarity:\")\n",
        "    print(f\"    Pronoun: {highest_similarity_row['pronoun']}\")\n",
        "    print(f\"    Relevant Token: {highest_similarity_row['relevant_token']}\")\n",
        "    print(f\"    Cosine Similarity: {highest_similarity_row['cosine_similarity']:.2f}\")\n",
        "    print(f\"  Lowest Cosine Similarity:\")\n",
        "    print(f\"    Pronoun: {lowest_similarity_row['pronoun']}\")\n",
        "    print(f\"    Relevant Token: {lowest_similarity_row['relevant_token']}\")\n",
        "    print(f\"    Cosine Similarity: {lowest_similarity_row['cosine_similarity']:.2f}\")\n",
        "    print(\"-\" * 20)"
      ],
      "metadata": {
        "colab": {
          "base_uri": "https://localhost:8080/"
        },
        "id": "oLtMJ7qiIcjC",
        "outputId": "7bb119f4-4a3d-43c0-e3cb-4505d868b800"
      },
      "execution_count": 17,
      "outputs": [
        {
          "output_type": "stream",
          "name": "stdout",
          "text": [
            "Stereotype: 1\n",
            "  Highest Cosine Similarity:\n",
            "    Pronoun: women\n",
            "    Relevant Token: appearances\n",
            "    Cosine Similarity: 0.51\n",
            "  Lowest Cosine Similarity:\n",
            "    Pronoun: She\n",
            "    Relevant Token: fights\n",
            "    Cosine Similarity: 0.07\n",
            "--------------------\n",
            "Stereotype: 2\n",
            "  Highest Cosine Similarity:\n",
            "    Pronoun: he\n",
            "    Relevant Token: rude\n",
            "    Cosine Similarity: 0.46\n",
            "  Lowest Cosine Similarity:\n",
            "    Pronoun: She\n",
            "    Relevant Token: housewife\n",
            "    Cosine Similarity: 0.00\n",
            "--------------------\n",
            "Stereotype: 3\n",
            "  Highest Cosine Similarity:\n",
            "    Pronoun: She\n",
            "    Relevant Token: patient\n",
            "    Cosine Similarity: 0.32\n",
            "  Lowest Cosine Similarity:\n",
            "    Pronoun: She\n",
            "    Relevant Token: sons\n",
            "    Cosine Similarity: 0.10\n",
            "--------------------\n",
            "Stereotype: 4\n",
            "  Highest Cosine Similarity:\n",
            "    Pronoun: she\n",
            "    Relevant Token: neighbour\n",
            "    Cosine Similarity: 0.58\n",
            "  Lowest Cosine Similarity:\n",
            "    Pronoun: She\n",
            "    Relevant Token: slippers\n",
            "    Cosine Similarity: 0.00\n",
            "--------------------\n",
            "Stereotype: 5\n",
            "  Highest Cosine Similarity:\n",
            "    Pronoun: he\n",
            "    Relevant Token: rude\n",
            "    Cosine Similarity: 0.51\n",
            "  Lowest Cosine Similarity:\n",
            "    Pronoun: She\n",
            "    Relevant Token: bossy\n",
            "    Cosine Similarity: 0.00\n",
            "--------------------\n",
            "Stereotype: 6\n",
            "  Highest Cosine Similarity:\n",
            "    Pronoun: women\n",
            "    Relevant Token: football\n",
            "    Cosine Similarity: 0.47\n",
            "  Lowest Cosine Similarity:\n",
            "    Pronoun: She\n",
            "    Relevant Token: bugs\n",
            "    Cosine Similarity: 0.22\n",
            "--------------------\n",
            "Stereotype: 7\n",
            "  Highest Cosine Similarity:\n",
            "    Pronoun: she\n",
            "    Relevant Token: skirt\n",
            "    Cosine Similarity: 0.35\n",
            "  Lowest Cosine Similarity:\n",
            "    Pronoun: She\n",
            "    Relevant Token: sun\n",
            "    Cosine Similarity: 0.15\n",
            "--------------------\n",
            "Stereotype: 8\n",
            "  Highest Cosine Similarity:\n",
            "    Pronoun: her\n",
            "    Relevant Token: apartment\n",
            "    Cosine Similarity: 0.55\n",
            "  Lowest Cosine Similarity:\n",
            "    Pronoun: Women\n",
            "    Relevant Token: cars\n",
            "    Cosine Similarity: 0.31\n",
            "--------------------\n",
            "Stereotype: 9\n",
            "  Highest Cosine Similarity:\n",
            "    Pronoun: he\n",
            "    Relevant Token: mirror\n",
            "    Cosine Similarity: 0.51\n",
            "  Lowest Cosine Similarity:\n",
            "    Pronoun: He\n",
            "    Relevant Token: habit\n",
            "    Cosine Similarity: 0.27\n",
            "--------------------\n",
            "Stereotype: 10\n",
            "  Highest Cosine Similarity:\n",
            "    Pronoun: men\n",
            "    Relevant Token: polite\n",
            "    Cosine Similarity: 0.53\n",
            "  Lowest Cosine Similarity:\n",
            "    Pronoun: He\n",
            "    Relevant Token: good\n",
            "    Cosine Similarity: 0.24\n",
            "--------------------\n",
            "Stereotype: 11\n",
            "  Highest Cosine Similarity:\n",
            "    Pronoun: his\n",
            "    Relevant Token: math\n",
            "    Cosine Similarity: 0.66\n",
            "  Lowest Cosine Similarity:\n",
            "    Pronoun: Men\n",
            "    Relevant Token: stubborn\n",
            "    Cosine Similarity: 0.21\n",
            "--------------------\n",
            "Stereotype: 12\n",
            "  Highest Cosine Similarity:\n",
            "    Pronoun: man\n",
            "    Relevant Token: carpenter\n",
            "    Cosine Similarity: 0.58\n",
            "  Lowest Cosine Similarity:\n",
            "    Pronoun: He\n",
            "    Relevant Token: studious\n",
            "    Cosine Similarity: 0.00\n",
            "--------------------\n",
            "Stereotype: 13\n",
            "  Highest Cosine Similarity:\n",
            "    Pronoun: men\n",
            "    Relevant Token: powerful\n",
            "    Cosine Similarity: 0.74\n",
            "  Lowest Cosine Similarity:\n",
            "    Pronoun: she\n",
            "    Relevant Token: bossy\n",
            "    Cosine Similarity: 0.00\n",
            "--------------------\n",
            "Stereotype: 14\n",
            "  Highest Cosine Similarity:\n",
            "    Pronoun: he\n",
            "    Relevant Token: friend\n",
            "    Cosine Similarity: 0.63\n",
            "  Lowest Cosine Similarity:\n",
            "    Pronoun: He\n",
            "    Relevant Token: life\n",
            "    Cosine Similarity: 0.22\n",
            "--------------------\n",
            "Stereotype: 15\n",
            "  Highest Cosine Similarity:\n",
            "    Pronoun: women\n",
            "    Relevant Token: attractive\n",
            "    Cosine Similarity: 0.76\n",
            "  Lowest Cosine Similarity:\n",
            "    Pronoun: He\n",
            "    Relevant Token: store\n",
            "    Cosine Similarity: 0.13\n",
            "--------------------\n",
            "Stereotype: 16\n",
            "  Highest Cosine Similarity:\n",
            "    Pronoun: women\n",
            "    Relevant Token: elderly\n",
            "    Cosine Similarity: 0.80\n",
            "  Lowest Cosine Similarity:\n",
            "    Pronoun: man\n",
            "    Relevant Token: old\n",
            "    Cosine Similarity: 0.05\n",
            "--------------------\n"
          ]
        }
      ]
    },
    {
      "cell_type": "markdown",
      "source": [
        "### Summary of findings\n",
        "My analysis of pronoun–token cosine similarities using BERT embeddings reveals clear patterns in how gender stereotypes are encoded across 16 stereotype categories.\n",
        "- Several associations are clearly aligned with common gender stereotypes. For instance, in (3) Women are empathetic and caring, she & patient (0.32) reflects expected traits, while in (7) Women are beautiful, she & skirt (0.35) aligns with appearance-based stereotypes. Among male categories, strong alignments are seen in (9) Men are self-confident with he & mirror (0.51), (10) Men are professional with men & polite (0.53), (11) Men are rational with his & math (0.66), (12) Men are providers with man & carpenter (0.58), (13) Men are leaders with men & powerful (0.74), (15) Men are sexual with women & attractive (0.76), and (14) Men are childish with he & friend (0.63).\n",
        "\n",
        "- Other associations are more ambiguous, such as (1) Women are emotional and irrational where women & appearances (0.51) may only loosely reflect the stereotype. Similarly, (5) Women are social with he & rude (0.51), and (8) Men are tough and rough with he & authority (0.42) and her & apartment (0.55) are difficult to interpret. A surprising case appears in (16) Men are strong, where women & elderly (0.8) scores highest, but lacks clear stereotypical meaning.\n",
        "\n",
        "- Finally, a few associations are anti-stereotypical, such as (2) Women are gentle, kind, and submissive with she & housewife (0.00), (6) Women are weak with women & football (0.47) and she & bugs (0.22), and and (4) Women are neat and diligent where her & greasy (0.48) does not reflect neatness. Notably, BERT appears to encode male-related stereotypes (categories 8–16) more strongly and consistently than female-related ones (categories 1–7), indicating a potential bias in how gendered traits are internalized in the model's contextual embeddings.\n",
        "\n"
      ],
      "metadata": {
        "id": "I5kWZNd4YLNc"
      }
    }
  ]
}