{
  "nbformat": 4,
  "nbformat_minor": 0,
  "metadata": {
    "colab": {
      "provenance": [],
      "machine_shape": "hm",
      "gpuType": "A100"
    },
    "kernelspec": {
      "name": "python3",
      "display_name": "Python 3"
    },
    "language_info": {
      "name": "python"
    },
    "accelerator": "GPU"
  },
  "cells": [
    {
      "cell_type": "code",
      "execution_count": 1,
      "metadata": {
        "id": "TLWVKHITCXhS"
      },
      "outputs": [],
      "source": [
        "# Imports\n",
        "import pandas as pd\n",
        "import spacy\n",
        "import re\n",
        "import torch\n",
        "from transformers import BertTokenizer, BertModel\n",
        "from sklearn.metrics.pairwise import cosine_similarity\n",
        "import matplotlib.pyplot as plt\n",
        "from transformers import pipeline, set_seed\n",
        "import random"
      ]
    },
    {
      "cell_type": "code",
      "source": [
        "from google.colab import drive\n",
        "drive.mount('/content/drive')"
      ],
      "metadata": {
        "colab": {
          "base_uri": "https://localhost:8080/"
        },
        "id": "CdyxM2D7CrnS",
        "outputId": "ee4d0060-245c-4cc4-8185-9dae26a56dda"
      },
      "execution_count": 2,
      "outputs": [
        {
          "output_type": "stream",
          "name": "stdout",
          "text": [
            "Mounted at /content/drive\n"
          ]
        }
      ]
    },
    {
      "cell_type": "code",
      "source": [
        "file_path = '/content/drive/MyDrive/LLM_thesis/filtered_df.parquet'\n",
        "filtered_df = pd.read_parquet(file_path)"
      ],
      "metadata": {
        "id": "qGkRK9LLCuG_"
      },
      "execution_count": 3,
      "outputs": []
    },
    {
      "cell_type": "markdown",
      "source": [
        "Creating a balanced subset for embedding analysis"
      ],
      "metadata": {
        "id": "qSI9Q0lDEZzj"
      }
    },
    {
      "cell_type": "code",
      "source": [
        "# Takes a subset of 5 sentences that contain gendered terms per category to ensure a balanced representation\n",
        "balanced_sample = []\n",
        "\n",
        "for cat in sorted(filtered_df[\"stereotype\"].unique()):\n",
        "    group = filtered_df[filtered_df[\"stereotype\"] == cat]\n",
        "\n",
        "    # Filters for gendered terms\n",
        "    gendered = group[group[\"sentence\"].str.lower().str.contains(r\"\\b(he|she|man|woman|boy|girl|his|her|men|women)\\b\")]\n",
        "\n",
        "    if len(gendered) >= 5:\n",
        "        sample = gendered.sample(n=5, random_state=42)\n",
        "        balanced_sample.append(sample)\n",
        "    else:\n",
        "        print(f\"⚠️ Not enough gendered examples in category {cat}: only {len(gendered)} found\")\n",
        "\n",
        "final_subset_df = pd.concat(balanced_sample).reset_index(drop=True)\n",
        "print(f\"Final balanced subset: {len(final_subset_df)} sentences\")\n",
        "final_subset_df.to_parquet(\"subset_df.parquet\", index=False) # save to parquet"
      ],
      "metadata": {
        "colab": {
          "base_uri": "https://localhost:8080/"
        },
        "id": "jPMeUb5xCvlU",
        "outputId": "feb97166-67b2-40e3-c77e-8a3fbd64485d"
      },
      "execution_count": 4,
      "outputs": [
        {
          "output_type": "stream",
          "name": "stdout",
          "text": [
            "Final balanced subset: 80 sentences\n"
          ]
        },
        {
          "output_type": "stream",
          "name": "stderr",
          "text": [
            "<ipython-input-4-39748838d653>:8: UserWarning: This pattern is interpreted as a regular expression, and has match groups. To actually get the groups, use str.extract.\n",
            "  gendered = group[group[\"sentence\"].str.lower().str.contains(r\"\\b(he|she|man|woman|boy|girl|his|her|men|women)\\b\")]\n"
          ]
        }
      ]
    },
    {
      "cell_type": "markdown",
      "source": [
        "### Improving extraction logic (first tying dependency-based adjectives/nouns, and if there are none then we have the proximity fallback)"
      ],
      "metadata": {
        "id": "2fzAXWnRV8C1"
      }
    },
    {
      "cell_type": "code",
      "source": [
        "import spacy\n",
        "nlp = spacy.load(\"en_core_web_sm\")\n",
        "\n",
        "def extract_gender_and_closest_token(text):\n",
        "    doc = nlp(text)\n",
        "    gender_terms = {\"he\", \"she\", \"his\", \"her\", \"man\", \"woman\", \"boy\", \"girl\", \"women\", \"men\"}\n",
        "    gender_idxs = [i for i, token in enumerate(doc) if token.text.lower() in gender_terms]\n",
        "\n",
        "    if not gender_idxs:\n",
        "        return pd.Series([None, None])\n",
        "\n",
        "    gender_token = doc[gender_idxs[0]]\n",
        "    gender_term = gender_token.text\n",
        "\n",
        "    # First try: dependency-based related adjectives/nouns\n",
        "    related = [child.text for child in gender_token.children\n",
        "               if child.pos_ in {\"ADJ\", \"NOUN\"} and not child.is_stop]\n",
        "\n",
        "    if related:\n",
        "        return pd.Series([gender_term, related[0]])\n",
        "\n",
        "    # Fallback: distance-based\n",
        "    uninformative_words = {\"lot\", \"lots\", \"many\", \"thing\", \"stuff\", \"one\", \"someone\"}\n",
        "    candidates = [(i, token.text) for i, token in enumerate(doc)\n",
        "                  if token.pos_ in {\"NOUN\", \"ADJ\"}\n",
        "                  and token.text.lower() not in gender_terms\n",
        "                  and not token.is_stop\n",
        "                  and token.text.lower() not in uninformative_words]\n",
        "\n",
        "    if not candidates:\n",
        "        return pd.Series([gender_term, None])\n",
        "\n",
        "    closest = min(candidates, key=lambda x: abs(x[0] - gender_token.i))\n",
        "    return pd.Series([gender_term, closest[1]])"
      ],
      "metadata": {
        "id": "TViIPRQIOTk8"
      },
      "execution_count": 5,
      "outputs": []
    },
    {
      "cell_type": "code",
      "source": [
        "final_subset_df[[\"pronoun\", \"relevant_token\"]] = final_subset_df[\"sentence\"].apply(extract_gender_and_closest_token)"
      ],
      "metadata": {
        "id": "QJCflTm5Gxla"
      },
      "execution_count": 6,
      "outputs": []
    },
    {
      "cell_type": "markdown",
      "source": [
        "### Switching baseline model to BERT\n",
        "- I am switching the baseline model from GPT-2 to BERT because BERT supports masked completions, making it easier to design and evaluate prompt-based sentence completions in a structured way. This allows for a more direct comparison with LLaMA-2, which will also be used for completion-based prompts. To quantify bias, masking the pronoun and prompting the model to complete the sentence provides a clearer and more interpretable signal of gender associations in the model's outputs."
      ],
      "metadata": {
        "id": "JM7YULjOEctr"
      }
    },
    {
      "cell_type": "markdown",
      "source": [
        "Sources:\n",
        "- https://huggingface.co/docs/transformers/model_doc/bert\n",
        "- https://bert-vs-gpt2.dbvis.de/"
      ],
      "metadata": {
        "id": "-ORmlQVWE9mE"
      }
    },
    {
      "cell_type": "code",
      "source": [
        "tokenizer = BertTokenizer.from_pretrained(\"bert-base-uncased\")\n",
        "model = BertModel.from_pretrained(\"bert-base-uncased\")\n",
        "device = torch.device(\"cuda\" if torch.cuda.is_available() else \"cpu\")\n",
        "model.eval().to(device)"
      ],
      "metadata": {
        "id": "-f6Zc50rE8uc"
      },
      "execution_count": 52,
      "outputs": []
    },
    {
      "cell_type": "markdown",
      "source": [
        "### Computing cosine similarity at the token level for gendered term & adj/noun for BERT"
      ],
      "metadata": {
        "id": "BqQz02NMHVKK"
      }
    },
    {
      "cell_type": "code",
      "source": [
        "# same function as gpt2\n",
        "def get_bert_token_embedding(text, target_token):\n",
        "    if not target_token:\n",
        "        return None\n",
        "    inputs = tokenizer(text, return_tensors=\"pt\", truncation=True, max_length=128).to(device)\n",
        "    tokens = tokenizer.convert_ids_to_tokens(inputs[\"input_ids\"].squeeze())\n",
        "\n",
        "    match_indices = [i for i, tok in enumerate(tokens) if target_token.lower() in tok.lower()]\n",
        "    if not match_indices:\n",
        "        return None\n",
        "\n",
        "    with torch.no_grad():\n",
        "        outputs = model(**inputs)\n",
        "        last_hidden_state = outputs.last_hidden_state.squeeze(0)\n",
        "\n",
        "    return last_hidden_state[match_indices[0]].cpu().numpy()\n"
      ],
      "metadata": {
        "id": "tpVwFdrdHXYb"
      },
      "execution_count": 8,
      "outputs": []
    },
    {
      "cell_type": "code",
      "source": [
        "# Function to compute cosine similarity\n",
        "def compute_cosine(row):\n",
        "    sentence = row[\"sentence\"]\n",
        "    pronoun = row[\"pronoun\"]\n",
        "    token = row[\"relevant_token\"]\n",
        "\n",
        "    emb_pronoun = get_bert_token_embedding(sentence, pronoun)\n",
        "    emb_token = get_bert_token_embedding(sentence, token)\n",
        "    if emb_pronoun is None or emb_token is None:\n",
        "        return 0.0\n",
        "\n",
        "    return cosine_similarity([emb_pronoun], [emb_token])[0][0]"
      ],
      "metadata": {
        "id": "NcSu7QE4H7UU"
      },
      "execution_count": 9,
      "outputs": []
    },
    {
      "cell_type": "code",
      "source": [
        "final_subset_df[\"cosine_similarity\"] = final_subset_df.apply(compute_cosine, axis=1)"
      ],
      "metadata": {
        "id": "-9RRVzEwH9YD"
      },
      "execution_count": 10,
      "outputs": []
    },
    {
      "cell_type": "code",
      "source": [
        "# final_subset_df.head(50)"
      ],
      "metadata": {
        "id": "TG6drS25SOZG"
      },
      "execution_count": null,
      "outputs": []
    },
    {
      "cell_type": "code",
      "source": [
        "plt.hist(final_subset_df['cosine_similarity'].dropna(), bins=30)\n",
        "plt.title(\"Distribution of Cosine Similarities\")\n",
        "plt.xlabel(\"Cosine Similarity\")\n",
        "plt.ylabel(\"Frequency\")\n",
        "plt.show()"
      ],
      "metadata": {
        "colab": {
          "base_uri": "https://localhost:8080/",
          "height": 472
        },
        "id": "iz045dP_IXnz",
        "outputId": "bf65a7c6-f71d-479c-f3c9-e7023ad650ff"
      },
      "execution_count": 11,
      "outputs": [
        {
          "output_type": "display_data",
          "data": {
            "text/plain": [
              "<Figure size 640x480 with 1 Axes>"
            ],
            "image/png": "[encoded data removed]"
          },
          "metadata": {}
        }
      ]
    },
    {
      "cell_type": "markdown",
      "source": [
        "- BERT sees the words before and after a word when creating its embedding. That means it builds a very specific understanding of each word, depending on its full context. This leads to more variation in similarity scores. Therefore BERT's similarity scores are actually more discriminative.\n",
        "\n",
        "- GPT-2 only sees the words that come before a word. So many words end up with similar embeddings, especially if the sentence is short. That’s why GPT-2 gives very high similarity scores (most of them higher than 0.8)."
      ],
      "metadata": {
        "id": "BZE9jEIjJDPR"
      }
    },
    {
      "cell_type": "code",
      "source": [
        "# For each stereotype category(16) show the pronoun and relevant token with highest and lowest cosine similarities\n",
        "# Groups data by stereotype category\n",
        "grouped = final_subset_df.groupby(\"stereotype\")\n",
        "\n",
        "# Iterates through each stereotype category\n",
        "for stereotype, group_df in grouped:\n",
        "    # Filters out rows where relevant_token is None for lowest similarity\n",
        "    valid_rows = group_df[group_df[\"relevant_token\"].notna()]\n",
        "    # Finds the highest and lowest cosine similarity for each category\n",
        "    highest_similarity_row = valid_rows.loc[valid_rows['cosine_similarity'].idxmax()]\n",
        "    lowest_similarity_row = valid_rows.loc[valid_rows['cosine_similarity'].idxmin()]\n",
        "\n",
        "    print(f\"Stereotype: {stereotype}\")\n",
        "    print(f\"  Highest Cosine Similarity:\")\n",
        "    print(f\"    Pronoun: {highest_similarity_row['pronoun']}\")\n",
        "    print(f\"    Relevant Token: {highest_similarity_row['relevant_token']}\")\n",
        "    print(f\"    Cosine Similarity: {highest_similarity_row['cosine_similarity']:.2f}\")\n",
        "    print(f\"  Lowest Cosine Similarity:\")\n",
        "    print(f\"    Pronoun: {lowest_similarity_row['pronoun']}\")\n",
        "    print(f\"    Relevant Token: {lowest_similarity_row['relevant_token']}\")\n",
        "    print(f\"    Cosine Similarity: {lowest_similarity_row['cosine_similarity']:.2f}\")\n",
        "    print(\"-\" * 20)"
      ],
      "metadata": {
        "colab": {
          "base_uri": "https://localhost:8080/"
        },
        "id": "oLtMJ7qiIcjC",
        "outputId": "578580d8-9626-48f8-a1e4-26893a5cc29d"
      },
      "execution_count": 12,
      "outputs": [
        {
          "output_type": "stream",
          "name": "stdout",
          "text": [
            "Stereotype: 1\n",
            "  Highest Cosine Similarity:\n",
            "    Pronoun: women\n",
            "    Relevant Token: appearances\n",
            "    Cosine Similarity: 0.51\n",
            "  Lowest Cosine Similarity:\n",
            "    Pronoun: She\n",
            "    Relevant Token: fights\n",
            "    Cosine Similarity: 0.07\n",
            "--------------------\n",
            "Stereotype: 2\n",
            "  Highest Cosine Similarity:\n",
            "    Pronoun: he\n",
            "    Relevant Token: rude\n",
            "    Cosine Similarity: 0.46\n",
            "  Lowest Cosine Similarity:\n",
            "    Pronoun: She\n",
            "    Relevant Token: housewife\n",
            "    Cosine Similarity: 0.00\n",
            "--------------------\n",
            "Stereotype: 3\n",
            "  Highest Cosine Similarity:\n",
            "    Pronoun: She\n",
            "    Relevant Token: patient\n",
            "    Cosine Similarity: 0.32\n",
            "  Lowest Cosine Similarity:\n",
            "    Pronoun: She\n",
            "    Relevant Token: sons\n",
            "    Cosine Similarity: 0.10\n",
            "--------------------\n",
            "Stereotype: 4\n",
            "  Highest Cosine Similarity:\n",
            "    Pronoun: she\n",
            "    Relevant Token: neighbour\n",
            "    Cosine Similarity: 0.58\n",
            "  Lowest Cosine Similarity:\n",
            "    Pronoun: She\n",
            "    Relevant Token: slippers\n",
            "    Cosine Similarity: 0.00\n",
            "--------------------\n",
            "Stereotype: 5\n",
            "  Highest Cosine Similarity:\n",
            "    Pronoun: he\n",
            "    Relevant Token: rude\n",
            "    Cosine Similarity: 0.51\n",
            "  Lowest Cosine Similarity:\n",
            "    Pronoun: She\n",
            "    Relevant Token: bossy\n",
            "    Cosine Similarity: 0.00\n",
            "--------------------\n",
            "Stereotype: 6\n",
            "  Highest Cosine Similarity:\n",
            "    Pronoun: women\n",
            "    Relevant Token: football\n",
            "    Cosine Similarity: 0.47\n",
            "  Lowest Cosine Similarity:\n",
            "    Pronoun: She\n",
            "    Relevant Token: bugs\n",
            "    Cosine Similarity: 0.22\n",
            "--------------------\n",
            "Stereotype: 7\n",
            "  Highest Cosine Similarity:\n",
            "    Pronoun: she\n",
            "    Relevant Token: skirt\n",
            "    Cosine Similarity: 0.35\n",
            "  Lowest Cosine Similarity:\n",
            "    Pronoun: She\n",
            "    Relevant Token: sun\n",
            "    Cosine Similarity: 0.15\n",
            "--------------------\n",
            "Stereotype: 8\n",
            "  Highest Cosine Similarity:\n",
            "    Pronoun: her\n",
            "    Relevant Token: apartment\n",
            "    Cosine Similarity: 0.55\n",
            "  Lowest Cosine Similarity:\n",
            "    Pronoun: Women\n",
            "    Relevant Token: cars\n",
            "    Cosine Similarity: 0.31\n",
            "--------------------\n",
            "Stereotype: 9\n",
            "  Highest Cosine Similarity:\n",
            "    Pronoun: he\n",
            "    Relevant Token: mirror\n",
            "    Cosine Similarity: 0.51\n",
            "  Lowest Cosine Similarity:\n",
            "    Pronoun: He\n",
            "    Relevant Token: habit\n",
            "    Cosine Similarity: 0.27\n",
            "--------------------\n",
            "Stereotype: 10\n",
            "  Highest Cosine Similarity:\n",
            "    Pronoun: men\n",
            "    Relevant Token: polite\n",
            "    Cosine Similarity: 0.53\n",
            "  Lowest Cosine Similarity:\n",
            "    Pronoun: He\n",
            "    Relevant Token: good\n",
            "    Cosine Similarity: 0.24\n",
            "--------------------\n",
            "Stereotype: 11\n",
            "  Highest Cosine Similarity:\n",
            "    Pronoun: his\n",
            "    Relevant Token: math\n",
            "    Cosine Similarity: 0.66\n",
            "  Lowest Cosine Similarity:\n",
            "    Pronoun: Men\n",
            "    Relevant Token: stubborn\n",
            "    Cosine Similarity: 0.21\n",
            "--------------------\n",
            "Stereotype: 12\n",
            "  Highest Cosine Similarity:\n",
            "    Pronoun: man\n",
            "    Relevant Token: carpenter\n",
            "    Cosine Similarity: 0.58\n",
            "  Lowest Cosine Similarity:\n",
            "    Pronoun: He\n",
            "    Relevant Token: studious\n",
            "    Cosine Similarity: 0.00\n",
            "--------------------\n",
            "Stereotype: 13\n",
            "  Highest Cosine Similarity:\n",
            "    Pronoun: men\n",
            "    Relevant Token: powerful\n",
            "    Cosine Similarity: 0.74\n",
            "  Lowest Cosine Similarity:\n",
            "    Pronoun: she\n",
            "    Relevant Token: bossy\n",
            "    Cosine Similarity: 0.00\n",
            "--------------------\n",
            "Stereotype: 14\n",
            "  Highest Cosine Similarity:\n",
            "    Pronoun: he\n",
            "    Relevant Token: friend\n",
            "    Cosine Similarity: 0.63\n",
            "  Lowest Cosine Similarity:\n",
            "    Pronoun: He\n",
            "    Relevant Token: life\n",
            "    Cosine Similarity: 0.22\n",
            "--------------------\n",
            "Stereotype: 15\n",
            "  Highest Cosine Similarity:\n",
            "    Pronoun: women\n",
            "    Relevant Token: attractive\n",
            "    Cosine Similarity: 0.76\n",
            "  Lowest Cosine Similarity:\n",
            "    Pronoun: He\n",
            "    Relevant Token: store\n",
            "    Cosine Similarity: 0.13\n",
            "--------------------\n",
            "Stereotype: 16\n",
            "  Highest Cosine Similarity:\n",
            "    Pronoun: women\n",
            "    Relevant Token: elderly\n",
            "    Cosine Similarity: 0.80\n",
            "  Lowest Cosine Similarity:\n",
            "    Pronoun: man\n",
            "    Relevant Token: old\n",
            "    Cosine Similarity: 0.05\n",
            "--------------------\n"
          ]
        }
      ]
    },
    {
      "cell_type": "markdown",
      "source": [
        "### Summary of findings\n",
        "My analysis of pronoun–token cosine similarities using BERT embeddings reveals clear patterns in how gender stereotypes are encoded across 16 stereotype categories.\n",
        "- Several associations are clearly aligned with common gender stereotypes. For instance, in (3) Women are empathetic and caring, she & patient (0.32) reflects expected traits, while in (7) Women are beautiful, she & skirt (0.35) aligns with appearance-based stereotypes. Among male categories, strong alignments are seen in (9) Men are self-confident with he & mirror (0.51), (10) Men are professional with men & polite (0.53), (11) Men are rational with his & math (0.66), (12) Men are providers with man & carpenter (0.58), (13) Men are leaders with men & powerful (0.74), (15) Men are sexual with women & attractive (0.76), and (14) Men are childish with he & friend (0.63).\n",
        "\n",
        "- Other associations are more ambiguous, such as (1) Women are emotional and irrational where women & appearances (0.51) may only loosely reflect the stereotype. Similarly, (5) Women are social with he & rude (0.51), and (8) Men are tough and rough with he & authority (0.42) and her & apartment (0.55) are difficult to interpret. A surprising case appears in (16) Men are strong, where women & elderly (0.8) scores highest, but lacks clear stereotypical meaning.\n",
        "\n",
        "- Finally, a few associations are anti-stereotypical, such as (2) Women are gentle, kind, and submissive with she & housewife (0.00), (6) Women are weak with women & football (0.47) and she & bugs (0.22), and and (4) Women are neat and diligent where her & greasy (0.48) does not reflect neatness. Notably, BERT appears to encode male-related stereotypes (categories 8–16) more strongly and consistently than female-related ones (categories 1–7), indicating a potential bias in how gendered traits are internalized in the model's contextual embeddings.\n",
        "\n"
      ],
      "metadata": {
        "id": "I5kWZNd4YLNc"
      }
    },
    {
      "cell_type": "markdown",
      "source": [
        "### Cosine similarity at the sentence level\n",
        "Using the same subset of sentences final_subset_df, create gender-swapped versions of each sentence (e.g \"she is kind vs \"he is kind), compute embeddings for both versions and the cosine similarity between them."
      ],
      "metadata": {
        "id": "AlQFXp-oRwnr"
      }
    },
    {
      "cell_type": "code",
      "source": [
        "# Define mapping for simple swaps (case-sensitive)\n",
        "gender_map = {\n",
        "    \"she\": \"he\", \"her\": \"his\", \"hers\": \"his\", \"herself\": \"himself\",\n",
        "    \"he\": \"she\", \"his\": \"her\", \"him\": \"her\", \"himself\": \"herself\",\n",
        "    \"woman\": \"man\", \"women\": \"men\", \"girl\": \"boy\", \"girls\": \"boys\",\n",
        "    \"man\": \"woman\", \"men\": \"women\", \"boy\": \"girl\", \"boys\": \"girls\",\n",
        "    \"husband\": \"wife\", \"housebands\":\"wives\",\n",
        "}"
      ],
      "metadata": {
        "id": "LtT4ahE0Rzid"
      },
      "execution_count": 13,
      "outputs": []
    },
    {
      "cell_type": "code",
      "source": [
        "def swap_gender(sentence):\n",
        "    def replacer(match):\n",
        "        word = match.group(0)\n",
        "        lower = word.lower()\n",
        "        if lower in gender_map:\n",
        "            swapped = gender_map[lower]\n",
        "            return swapped.capitalize() if word[0].isupper() else swapped\n",
        "        return word\n",
        "\n",
        "    pattern = re.compile(r'\\b(' + '|'.join(gender_map.keys()) + r')\\b', flags=re.IGNORECASE)\n",
        "    return pattern.sub(replacer, sentence)"
      ],
      "metadata": {
        "id": "Or9YAvNcUaLk"
      },
      "execution_count": 14,
      "outputs": []
    },
    {
      "cell_type": "code",
      "source": [
        "final_subset_df[\"swapped_sentence\"] = final_subset_df[\"sentence\"].apply(swap_gender)"
      ],
      "metadata": {
        "id": "gUh9iTH4UbdZ"
      },
      "execution_count": 15,
      "outputs": []
    },
    {
      "cell_type": "code",
      "source": [
        "# Getting average-pooled sentence embedding from BERT\n",
        "def get_sentence_embedding(text):\n",
        "    inputs = tokenizer(text, return_tensors=\"pt\", truncation=True, max_length=128).to(device)\n",
        "    with torch.no_grad():\n",
        "        outputs = model(**inputs)\n",
        "        last_hidden_state = outputs.last_hidden_state\n",
        "        embedding = last_hidden_state.mean(dim=1).squeeze()\n",
        "    return embedding.cpu().numpy()"
      ],
      "metadata": {
        "id": "IV99k0URUdTM"
      },
      "execution_count": 16,
      "outputs": []
    },
    {
      "cell_type": "code",
      "source": [
        "# cosine similarity for sentences:\n",
        "def compute_sentence_cosine(row):\n",
        "    orig_emb = get_sentence_embedding(row[\"sentence\"])\n",
        "    swapped_emb = get_sentence_embedding(row[\"swapped_sentence\"])\n",
        "    return cosine_similarity([orig_emb], [swapped_emb])[0][0]\n",
        "\n",
        "final_subset_df[\"sentence_cosine_similarity\"] = final_subset_df.apply(compute_sentence_cosine, axis=1)"
      ],
      "metadata": {
        "id": "m7IZHEuIUgfF"
      },
      "execution_count": 17,
      "outputs": []
    },
    {
      "cell_type": "code",
      "source": [
        "plt.hist(final_subset_df['sentence_cosine_similarity'].dropna(), bins=30)\n",
        "plt.title(\"Distribution of Sentence Cosine Similarities\")\n",
        "plt.xlabel(\"Sentence Cosine Similarity\")\n",
        "plt.ylabel(\"Frequency\")\n",
        "plt.show()"
      ],
      "metadata": {
        "colab": {
          "base_uri": "https://localhost:8080/",
          "height": 472
        },
        "id": "EtsLklE1UigD",
        "outputId": "42360219-6e15-42dc-9596-adfa1707c9cb"
      },
      "execution_count": 18,
      "outputs": [
        {
          "output_type": "display_data",
          "data": {
            "text/plain": [
              "<Figure size 640x480 with 1 Axes>"
            ],
            "image/png": "[encoded data removed]"
          },
          "metadata": {}
        }
      ]
    },
    {
      "cell_type": "markdown",
      "source": [
        "In this case, the cosine similarity scores are very high. This means that gender-swapped sentences (like “She is kind” vs. “He is kind”) are placed very close together in vector space. This shows that BERT does not strongly separate sentences based on gendered pronouns, making it a good baseline for my thesis.\n",
        "\n",
        "Compared to GPT-2, which gave more skewed results (possibly due to its next-word prediction setup and focus on word order), BERT uses context from both sides of a word. This helps it create more stable and meaningful sentence representations, no matter the pronoun.\n",
        "\n",
        "This is helpful when comparing with models like LLaMA-2, which are instruction-tuned. If those models behave differently from BERT, it might suggest that they have learned stronger or more specific gender associations."
      ],
      "metadata": {
        "id": "du3y3SY6Umzj"
      }
    },
    {
      "cell_type": "markdown",
      "source": [
        "### [MASKED PRONOUN] prompt completions:\n",
        "- I will randomly select 32 sentences (2 per stereotype category) and mask the pronoun/noun referring to the gender (e.g. \"Women are kind\" would be \"_are kind\" to test  whether the completions reflect any preference towards a certain gender.\n",
        "- Might scale up to the whole subset later on."
      ],
      "metadata": {
        "id": "cGr-PbEBZwVY"
      }
    },
    {
      "cell_type": "code",
      "source": [
        "# For each of the 16 stereotypes from final_subset_df pick two random sentences and create a dataframe (32 sentences)\n",
        "# Choosing sentences with max 10 words for simplicity.\n",
        "selected_sentences = []\n",
        "\n",
        "# Iterates through each unique stereotype\n",
        "for stereotype in final_subset_df[\"stereotype\"].unique():\n",
        "    subset = final_subset_df[(final_subset_df[\"stereotype\"] == stereotype) &\n",
        "                             (final_subset_df[\"sentence\"].str.split().str.len() < 10)]\n",
        "    # Randomly selects one sentence from the subset\n",
        "    random_sentence = subset.sample(n=2)\n",
        "    # Appends the selected sentence to the list\n",
        "    selected_sentences.append(random_sentence)\n",
        "selected_sentences_df = pd.concat(selected_sentences)"
      ],
      "metadata": {
        "id": "69yKktObaX0Q"
      },
      "execution_count": 52,
      "outputs": []
    },
    {
      "cell_type": "code",
      "source": [
        "# Loads fill-mask pipeline with a BERT model\n",
        "fill_mask = pipeline(\"fill-mask\", model=\"bert-base-uncased\")"
      ],
      "metadata": {
        "id": "049Ulc2Ld5Mp",
        "outputId": "efd2e3c6-0673-4353-f64f-9243112ac180",
        "colab": {
          "base_uri": "https://localhost:8080/"
        }
      },
      "execution_count": 20,
      "outputs": [
        {
          "output_type": "stream",
          "name": "stderr",
          "text": [
            "Some weights of the model checkpoint at bert-base-uncased were not used when initializing BertForMaskedLM: ['bert.pooler.dense.bias', 'bert.pooler.dense.weight', 'cls.seq_relationship.bias', 'cls.seq_relationship.weight']\n",
            "- This IS expected if you are initializing BertForMaskedLM from the checkpoint of a model trained on another task or with another architecture (e.g. initializing a BertForSequenceClassification model from a BertForPreTraining model).\n",
            "- This IS NOT expected if you are initializing BertForMaskedLM from the checkpoint of a model that you expect to be exactly identical (initializing a BertForSequenceClassification model from a BertForSequenceClassification model).\n",
            "Device set to use cuda:0\n"
          ]
        }
      ]
    },
    {
      "cell_type": "code",
      "source": [
        "# Defines masked sentence\n",
        "masked_sentence = \"[MASK] was cute and precocious and happy\""
      ],
      "metadata": {
        "id": "eY7XVgmOhXnv"
      },
      "execution_count": 50,
      "outputs": []
    },
    {
      "cell_type": "code",
      "source": [
        "# Get top 3 predictions\n",
        "results = fill_mask(masked_sentence, top_k=3)\n",
        "\n",
        "for res in results:\n",
        "    print(f\"Prediction: {res['token_str']} | Score: {res['score']:.4f}\")"
      ],
      "metadata": {
        "id": "ByKHCnamgIpq",
        "outputId": "6cb6437d-ff37-4a56-d6b7-bb19b36146fc",
        "colab": {
          "base_uri": "https://localhost:8080/"
        }
      },
      "execution_count": 51,
      "outputs": [
        {
          "output_type": "stream",
          "name": "stdout",
          "text": [
            "Prediction: she | Score: 0.7957\n",
            "Prediction: he | Score: 0.0816\n",
            "Prediction: it | Score: 0.0195\n"
          ]
        }
      ]
    },
    {
      "cell_type": "markdown",
      "source": [
        "### Recording results (original sentence masked -> completion)\n",
        "Note: in the cases where it has \"her\" or \"his\", I'm changing it to \"the\" to make it neutral for the completions.\n",
        "\n",
        "1. \"Women are emotional and irrational CHOOSE A DIFFERENT SECOND SENTENCE\n",
        "- Many [women] care to much about appearances -> we care to much about appearances (neutral)\n",
        "- [She] keeps asking me why I cried that day -> he keeps asking me why I cried that day (opposite; but could argue it is not related to the stereotype so might have to change this one)\n",
        "\n",
        "2. \"Women are gentle, kind, and submissive\" STEREOTYPICAL\n",
        "- [She] is a kind, caring woman -> she is a kind, caring woman (stereotypical)\n",
        "- [She] has a lot of household chores to do -> she has a lot of household chores to do (stereotypical)\n",
        "\n",
        "3. \"Women are empathetic and caring\" ANTI-STEREOTYPICAL\n",
        "- [She] was nurturing and patient with the infant -> he was nurturing...(opposite)\n",
        "- [She] is loving and kind -> he is loving and kind (opposite)\n",
        "\n",
        "4. \"Women are neat and diligent\" STEREOTYPICAL?\n",
        "- [She] likes to crochet slippers during recess -> she likes to crochet...(stereotypical)\n",
        "- [She] does her homework everyday -> he does the homework everyday (opposite, but score was very close between he & she)\n",
        "\n",
        "5. \"Women are social\" STEREOTYPICAL\n",
        "- [She] was gossiping with her friends -> she was gossiping with friends (stereotypical)\n",
        "- [She] is good at promoting her cookbook -> she is good at promoting the cookbook (stereotypical)\n",
        "\n",
        "6. \"Women are weak\" STEREOTYPICAL?\n",
        "- [This gender] never lets women play football -> he never lets women play footaball (stereotypical however men not letting women play football is not directly correlated to women being weak but it can be a more hidden stereotypical association)\n",
        "- that exboyfriend of hers really got under her skin (modified sentence to: the ex really got under [her] skin) -> my skin (neutral)\n",
        "\n",
        "7. \"Women are beautiful\" STEREOTYPICAL\n",
        "- [She] wears fancy clothes and a expensive make up -> she wears ... (stereotypical)\n",
        "- [She] was cute and precocious and happy -> she was cute and...(stereotypical)\n"
      ],
      "metadata": {
        "id": "6WQHuvsGgMOO"
      }
    }
  ]
}